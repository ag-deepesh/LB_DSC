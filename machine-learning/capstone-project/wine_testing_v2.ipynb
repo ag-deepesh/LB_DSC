{
 "cells": [
  {
   "cell_type": "markdown",
   "id": "fb06b67e",
   "metadata": {},
   "source": [
    "# CAPSTONE PROJECT\n",
    "\n",
    "\n",
    "### Summary:\n",
    "\n",
    "For the wine tasting problem, I have dealth with multicolinearity through PCA and have trained Logistic regression, Random-forest and SVM.\n",
    "I have also run hyperparameter tuning with k-fold cross validation.\n",
    "\n",
    "In the end, class imbalance issue is addressed using oversampling of minority classes and undersampling of majority classes. It yielded excellent results."
   ]
  },
  {
   "cell_type": "code",
   "execution_count": 21,
   "id": "fedb2700",
   "metadata": {
    "ExecuteTime": {
     "end_time": "2022-10-17T21:26:17.677333Z",
     "start_time": "2022-10-17T21:26:17.674035Z"
    }
   },
   "outputs": [],
   "source": [
    "import numpy as np\n",
    "import pandas as pd\n",
    "import seaborn as sns\n",
    "import matplotlib.pyplot as plt\n",
    "import warnings\n",
    "\n",
    "warnings.filterwarnings('ignore')"
   ]
  },
  {
   "cell_type": "code",
   "execution_count": 22,
   "id": "032a992d",
   "metadata": {
    "ExecuteTime": {
     "end_time": "2022-10-17T21:26:17.897935Z",
     "start_time": "2022-10-17T21:26:17.858207Z"
    }
   },
   "outputs": [
    {
     "name": "stdout",
     "output_type": "stream",
     "text": [
      "(1599, 12)\n"
     ]
    },
    {
     "data": {
      "text/html": [
       "<div>\n",
       "<style scoped>\n",
       "    .dataframe tbody tr th:only-of-type {\n",
       "        vertical-align: middle;\n",
       "    }\n",
       "\n",
       "    .dataframe tbody tr th {\n",
       "        vertical-align: top;\n",
       "    }\n",
       "\n",
       "    .dataframe thead th {\n",
       "        text-align: right;\n",
       "    }\n",
       "</style>\n",
       "<table border=\"1\" class=\"dataframe\">\n",
       "  <thead>\n",
       "    <tr style=\"text-align: right;\">\n",
       "      <th></th>\n",
       "      <th>fixed acidity</th>\n",
       "      <th>volatile acidity</th>\n",
       "      <th>citric acid</th>\n",
       "      <th>residual sugar</th>\n",
       "      <th>chlorides</th>\n",
       "      <th>free sulfur dioxide</th>\n",
       "      <th>total sulfur dioxide</th>\n",
       "      <th>density</th>\n",
       "      <th>pH</th>\n",
       "      <th>sulphates</th>\n",
       "      <th>alcohol</th>\n",
       "      <th>quality</th>\n",
       "    </tr>\n",
       "  </thead>\n",
       "  <tbody>\n",
       "    <tr>\n",
       "      <th>0</th>\n",
       "      <td>7.4</td>\n",
       "      <td>0.70</td>\n",
       "      <td>0.00</td>\n",
       "      <td>1.9</td>\n",
       "      <td>0.076</td>\n",
       "      <td>11.0</td>\n",
       "      <td>34.0</td>\n",
       "      <td>0.9978</td>\n",
       "      <td>3.51</td>\n",
       "      <td>0.56</td>\n",
       "      <td>9.4</td>\n",
       "      <td>5</td>\n",
       "    </tr>\n",
       "    <tr>\n",
       "      <th>1</th>\n",
       "      <td>7.8</td>\n",
       "      <td>0.88</td>\n",
       "      <td>0.00</td>\n",
       "      <td>2.6</td>\n",
       "      <td>0.098</td>\n",
       "      <td>25.0</td>\n",
       "      <td>67.0</td>\n",
       "      <td>0.9968</td>\n",
       "      <td>3.20</td>\n",
       "      <td>0.68</td>\n",
       "      <td>9.8</td>\n",
       "      <td>5</td>\n",
       "    </tr>\n",
       "    <tr>\n",
       "      <th>2</th>\n",
       "      <td>7.8</td>\n",
       "      <td>0.76</td>\n",
       "      <td>0.04</td>\n",
       "      <td>2.3</td>\n",
       "      <td>0.092</td>\n",
       "      <td>15.0</td>\n",
       "      <td>54.0</td>\n",
       "      <td>0.9970</td>\n",
       "      <td>3.26</td>\n",
       "      <td>0.65</td>\n",
       "      <td>9.8</td>\n",
       "      <td>5</td>\n",
       "    </tr>\n",
       "    <tr>\n",
       "      <th>3</th>\n",
       "      <td>11.2</td>\n",
       "      <td>0.28</td>\n",
       "      <td>0.56</td>\n",
       "      <td>1.9</td>\n",
       "      <td>0.075</td>\n",
       "      <td>17.0</td>\n",
       "      <td>60.0</td>\n",
       "      <td>0.9980</td>\n",
       "      <td>3.16</td>\n",
       "      <td>0.58</td>\n",
       "      <td>9.8</td>\n",
       "      <td>6</td>\n",
       "    </tr>\n",
       "    <tr>\n",
       "      <th>4</th>\n",
       "      <td>7.4</td>\n",
       "      <td>0.70</td>\n",
       "      <td>0.00</td>\n",
       "      <td>1.9</td>\n",
       "      <td>0.076</td>\n",
       "      <td>11.0</td>\n",
       "      <td>34.0</td>\n",
       "      <td>0.9978</td>\n",
       "      <td>3.51</td>\n",
       "      <td>0.56</td>\n",
       "      <td>9.4</td>\n",
       "      <td>5</td>\n",
       "    </tr>\n",
       "    <tr>\n",
       "      <th>5</th>\n",
       "      <td>7.4</td>\n",
       "      <td>0.66</td>\n",
       "      <td>0.00</td>\n",
       "      <td>1.8</td>\n",
       "      <td>0.075</td>\n",
       "      <td>13.0</td>\n",
       "      <td>40.0</td>\n",
       "      <td>0.9978</td>\n",
       "      <td>3.51</td>\n",
       "      <td>0.56</td>\n",
       "      <td>9.4</td>\n",
       "      <td>5</td>\n",
       "    </tr>\n",
       "    <tr>\n",
       "      <th>6</th>\n",
       "      <td>7.9</td>\n",
       "      <td>0.60</td>\n",
       "      <td>0.06</td>\n",
       "      <td>1.6</td>\n",
       "      <td>0.069</td>\n",
       "      <td>15.0</td>\n",
       "      <td>59.0</td>\n",
       "      <td>0.9964</td>\n",
       "      <td>3.30</td>\n",
       "      <td>0.46</td>\n",
       "      <td>9.4</td>\n",
       "      <td>5</td>\n",
       "    </tr>\n",
       "    <tr>\n",
       "      <th>7</th>\n",
       "      <td>7.3</td>\n",
       "      <td>0.65</td>\n",
       "      <td>0.00</td>\n",
       "      <td>1.2</td>\n",
       "      <td>0.065</td>\n",
       "      <td>15.0</td>\n",
       "      <td>21.0</td>\n",
       "      <td>0.9946</td>\n",
       "      <td>3.39</td>\n",
       "      <td>0.47</td>\n",
       "      <td>10.0</td>\n",
       "      <td>7</td>\n",
       "    </tr>\n",
       "    <tr>\n",
       "      <th>8</th>\n",
       "      <td>7.8</td>\n",
       "      <td>0.58</td>\n",
       "      <td>0.02</td>\n",
       "      <td>2.0</td>\n",
       "      <td>0.073</td>\n",
       "      <td>9.0</td>\n",
       "      <td>18.0</td>\n",
       "      <td>0.9968</td>\n",
       "      <td>3.36</td>\n",
       "      <td>0.57</td>\n",
       "      <td>9.5</td>\n",
       "      <td>7</td>\n",
       "    </tr>\n",
       "    <tr>\n",
       "      <th>9</th>\n",
       "      <td>7.5</td>\n",
       "      <td>0.50</td>\n",
       "      <td>0.36</td>\n",
       "      <td>6.1</td>\n",
       "      <td>0.071</td>\n",
       "      <td>17.0</td>\n",
       "      <td>102.0</td>\n",
       "      <td>0.9978</td>\n",
       "      <td>3.35</td>\n",
       "      <td>0.80</td>\n",
       "      <td>10.5</td>\n",
       "      <td>5</td>\n",
       "    </tr>\n",
       "  </tbody>\n",
       "</table>\n",
       "</div>"
      ],
      "text/plain": [
       "   fixed acidity  volatile acidity  citric acid  residual sugar  chlorides  \\\n",
       "0            7.4              0.70         0.00             1.9      0.076   \n",
       "1            7.8              0.88         0.00             2.6      0.098   \n",
       "2            7.8              0.76         0.04             2.3      0.092   \n",
       "3           11.2              0.28         0.56             1.9      0.075   \n",
       "4            7.4              0.70         0.00             1.9      0.076   \n",
       "5            7.4              0.66         0.00             1.8      0.075   \n",
       "6            7.9              0.60         0.06             1.6      0.069   \n",
       "7            7.3              0.65         0.00             1.2      0.065   \n",
       "8            7.8              0.58         0.02             2.0      0.073   \n",
       "9            7.5              0.50         0.36             6.1      0.071   \n",
       "\n",
       "   free sulfur dioxide  total sulfur dioxide  density    pH  sulphates  \\\n",
       "0                 11.0                  34.0   0.9978  3.51       0.56   \n",
       "1                 25.0                  67.0   0.9968  3.20       0.68   \n",
       "2                 15.0                  54.0   0.9970  3.26       0.65   \n",
       "3                 17.0                  60.0   0.9980  3.16       0.58   \n",
       "4                 11.0                  34.0   0.9978  3.51       0.56   \n",
       "5                 13.0                  40.0   0.9978  3.51       0.56   \n",
       "6                 15.0                  59.0   0.9964  3.30       0.46   \n",
       "7                 15.0                  21.0   0.9946  3.39       0.47   \n",
       "8                  9.0                  18.0   0.9968  3.36       0.57   \n",
       "9                 17.0                 102.0   0.9978  3.35       0.80   \n",
       "\n",
       "   alcohol  quality  \n",
       "0      9.4        5  \n",
       "1      9.8        5  \n",
       "2      9.8        5  \n",
       "3      9.8        6  \n",
       "4      9.4        5  \n",
       "5      9.4        5  \n",
       "6      9.4        5  \n",
       "7     10.0        7  \n",
       "8      9.5        7  \n",
       "9     10.5        5  "
      ]
     },
     "execution_count": 22,
     "metadata": {},
     "output_type": "execute_result"
    }
   ],
   "source": [
    "#reading the data\n",
    "\n",
    "df_entire = pd.read_csv('QualityPrediction.csv')\n",
    "print(df_entire.shape)\n",
    "df_entire.head(n=10)"
   ]
  },
  {
   "cell_type": "markdown",
   "id": "c541eb95",
   "metadata": {},
   "source": [
    "## 1. Preprocessing & Exploratory data analysis\n",
    "1. Treatment of missing values\n",
    "2. Data format Handling\n",
    "3. Data visualization\n",
    "4. Treatment of outliers"
   ]
  },
  {
   "cell_type": "markdown",
   "id": "d0fd1f8d",
   "metadata": {},
   "source": [
    "### 1.1 Treatment of missing values"
   ]
  },
  {
   "cell_type": "code",
   "execution_count": 23,
   "id": "9fec0c73",
   "metadata": {
    "ExecuteTime": {
     "end_time": "2022-10-17T21:26:18.387761Z",
     "start_time": "2022-10-17T21:26:18.376333Z"
    }
   },
   "outputs": [
    {
     "data": {
      "text/plain": [
       "quality                 0.0\n",
       "alcohol                 0.0\n",
       "sulphates               0.0\n",
       "pH                      0.0\n",
       "density                 0.0\n",
       "total sulfur dioxide    0.0\n",
       "free sulfur dioxide     0.0\n",
       "chlorides               0.0\n",
       "residual sugar          0.0\n",
       "citric acid             0.0\n",
       "volatile acidity        0.0\n",
       "fixed acidity           0.0\n",
       "dtype: float64"
      ]
     },
     "execution_count": 23,
     "metadata": {},
     "output_type": "execute_result"
    }
   ],
   "source": [
    "#percentage of missing values in each column\n",
    "\n",
    "(df_entire.isnull().sum()/df_entire.isnull().count()).sort_values(ascending=False)\n"
   ]
  },
  {
   "cell_type": "markdown",
   "id": "a905fc06",
   "metadata": {},
   "source": [
    "#### Inference: There are no missing values in the data"
   ]
  },
  {
   "cell_type": "markdown",
   "id": "fa8bdaaa",
   "metadata": {},
   "source": [
    "### 1.2 Correlation coefficient measure"
   ]
  },
  {
   "cell_type": "code",
   "execution_count": 24,
   "id": "99b21a8e",
   "metadata": {
    "ExecuteTime": {
     "end_time": "2022-10-17T21:26:20.157475Z",
     "start_time": "2022-10-17T21:26:18.957438Z"
    }
   },
   "outputs": [
    {
     "data": {
      "text/plain": [
       "<AxesSubplot:>"
      ]
     },
     "execution_count": 24,
     "metadata": {},
     "output_type": "execute_result"
    },
    {
     "data": {
      "image/png": "[encoded data removed]",
      "text/plain": [
       "<Figure size 720x432 with 2 Axes>"
      ]
     },
     "metadata": {
      "needs_background": "light"
     },
     "output_type": "display_data"
    }
   ],
   "source": [
    "corr= df_entire.corr()\n",
    "plt.figure(figsize=(10,6))\n",
    "sns.heatmap(corr, cmap='Blues', annot=True)"
   ]
  },
  {
   "cell_type": "markdown",
   "id": "9f90f683",
   "metadata": {},
   "source": [
    "### From the Correlation heatmap it is apparent that features have low-to-medium correlation. We will perform PCA little further before random forest classifier to handle multi-colinearity."
   ]
  },
  {
   "cell_type": "markdown",
   "id": "b15c9403",
   "metadata": {},
   "source": [
    "### 1.3 Data format handling"
   ]
  },
  {
   "cell_type": "code",
   "execution_count": 25,
   "id": "9cfcc0cf",
   "metadata": {
    "ExecuteTime": {
     "end_time": "2022-10-17T21:26:20.167352Z",
     "start_time": "2022-10-17T21:26:20.160006Z"
    }
   },
   "outputs": [
    {
     "data": {
      "text/plain": [
       "fixed acidity           float64\n",
       "volatile acidity        float64\n",
       "citric acid             float64\n",
       "residual sugar          float64\n",
       "chlorides               float64\n",
       "free sulfur dioxide     float64\n",
       "total sulfur dioxide    float64\n",
       "density                 float64\n",
       "pH                      float64\n",
       "sulphates               float64\n",
       "alcohol                 float64\n",
       "quality                   int64\n",
       "dtype: object"
      ]
     },
     "execution_count": 25,
     "metadata": {},
     "output_type": "execute_result"
    }
   ],
   "source": [
    "df_entire.dtypes"
   ]
  },
  {
   "cell_type": "markdown",
   "id": "8cf7c44e",
   "metadata": {},
   "source": [
    "#### No Data format handling required."
   ]
  },
  {
   "cell_type": "markdown",
   "id": "c4381592",
   "metadata": {},
   "source": [
    "### 1.4 Data Visualization"
   ]
  },
  {
   "cell_type": "code",
   "execution_count": 26,
   "id": "d976a545",
   "metadata": {
    "ExecuteTime": {
     "end_time": "2022-10-17T21:26:20.280040Z",
     "start_time": "2022-10-17T21:26:20.169949Z"
    }
   },
   "outputs": [
    {
     "data": {
      "text/plain": [
       "Index(['fixed acidity', 'volatile acidity', 'citric acid', 'residual sugar',\n",
       "       'chlorides', 'free sulfur dioxide', 'total sulfur dioxide', 'density',\n",
       "       'pH', 'sulphates', 'alcohol', 'quality'],\n",
       "      dtype='object')"
      ]
     },
     "execution_count": 26,
     "metadata": {},
     "output_type": "execute_result"
    }
   ],
   "source": [
    "df_entire.columns"
   ]
  },
  {
   "cell_type": "code",
   "execution_count": 27,
   "id": "fab08e3f",
   "metadata": {
    "ExecuteTime": {
     "end_time": "2022-10-17T21:26:20.540826Z",
     "start_time": "2022-10-17T21:26:20.327507Z"
    }
   },
   "outputs": [
    {
     "data": {
      "text/plain": [
       "<AxesSubplot:ylabel='Frequency'>"
      ]
     },
     "execution_count": 27,
     "metadata": {},
     "output_type": "execute_result"
    },
    {
     "data": {
      "image/png": "[encoded data removed]",
      "text/plain": [
       "<Figure size 432x288 with 1 Axes>"
      ]
     },
     "metadata": {
      "needs_background": "light"
     },
     "output_type": "display_data"
    }
   ],
   "source": [
    "df_entire['quality'].plot.hist()"
   ]
  },
  {
   "cell_type": "markdown",
   "id": "72b8147c",
   "metadata": {},
   "source": [
    "## Classes are imbalanced !"
   ]
  },
  {
   "cell_type": "code",
   "execution_count": 108,
   "id": "916f8391",
   "metadata": {
    "ExecuteTime": {
     "end_time": "2022-10-17T22:17:08.802225Z",
     "start_time": "2022-10-17T22:17:08.799709Z"
    }
   },
   "outputs": [],
   "source": [
    "####"
   ]
  },
  {
   "cell_type": "code",
   "execution_count": 28,
   "id": "d016cf54",
   "metadata": {
    "ExecuteTime": {
     "end_time": "2022-10-17T21:26:21.498223Z",
     "start_time": "2022-10-17T21:26:20.543365Z"
    }
   },
   "outputs": [
    {
     "data": {
      "text/plain": [
       "<AxesSubplot:xlabel='quality'>"
      ]
     },
     "execution_count": 28,
     "metadata": {},
     "output_type": "execute_result"
    },
    {
     "data": {
      "image/png": "[encoded data removed]",
      "text/plain": [
       "<Figure size 432x288 with 12 Axes>"
      ]
     },
     "metadata": {
      "needs_background": "light"
     },
     "output_type": "display_data"
    }
   ],
   "source": [
    "#sns.boxplot(x=\"variable\", y=\"value\", data=pd.melt(df_entire))\n",
    "#warnings.filterwarnings('ignore')\n",
    "\n",
    "f, axes = plt.subplots(3,4)\n",
    "sns.boxplot(df_entire['fixed acidity'], ax=axes[0,0])\n",
    "sns.boxplot(df_entire['volatile acidity'], ax=axes[0,1])\n",
    "sns.boxplot(df_entire['citric acid'], ax=axes[0,2])\n",
    "sns.boxplot(df_entire['residual sugar'], ax=axes[0,3])\n",
    "sns.boxplot(df_entire['chlorides'], ax=axes[1,0])\n",
    "sns.boxplot(df_entire['free sulfur dioxide'], ax=axes[1,1])\n",
    "sns.boxplot(df_entire['total sulfur dioxide'], ax=axes[1,2])\n",
    "sns.boxplot(df_entire['density'], ax=axes[1,3])\n",
    "sns.boxplot(df_entire['pH'], ax=axes[2,0])\n",
    "sns.boxplot(df_entire['sulphates'], ax=axes[2,1])\n",
    "sns.boxplot(df_entire['alcohol'], ax=axes[2,2])\n",
    "sns.boxplot(df_entire['quality'], ax=axes[2,3])"
   ]
  },
  {
   "cell_type": "code",
   "execution_count": 29,
   "id": "722fecf7",
   "metadata": {
    "ExecuteTime": {
     "end_time": "2022-10-17T21:26:21.523333Z",
     "start_time": "2022-10-17T21:26:21.501361Z"
    }
   },
   "outputs": [
    {
     "data": {
      "text/plain": [
       "(      fixed acidity  volatile acidity  citric acid  residual sugar  chlorides  \\\n",
       " 0               7.4             0.700         0.00             1.9      0.076   \n",
       " 1               7.8             0.880         0.00             2.6      0.098   \n",
       " 2               7.8             0.760         0.04             2.3      0.092   \n",
       " 3              11.2             0.280         0.56             1.9      0.075   \n",
       " 4               7.4             0.700         0.00             1.9      0.076   \n",
       " ...             ...               ...          ...             ...        ...   \n",
       " 1594            6.2             0.600         0.08             2.0      0.090   \n",
       " 1595            5.9             0.550         0.10             2.2      0.062   \n",
       " 1596            6.3             0.510         0.13             2.3      0.076   \n",
       " 1597            5.9             0.645         0.12             2.0      0.075   \n",
       " 1598            6.0             0.310         0.47             3.6      0.067   \n",
       " \n",
       "       free sulfur dioxide  total sulfur dioxide  density    pH  sulphates  \\\n",
       " 0                    11.0                  34.0  0.99780  3.51       0.56   \n",
       " 1                    25.0                  67.0  0.99680  3.20       0.68   \n",
       " 2                    15.0                  54.0  0.99700  3.26       0.65   \n",
       " 3                    17.0                  60.0  0.99800  3.16       0.58   \n",
       " 4                    11.0                  34.0  0.99780  3.51       0.56   \n",
       " ...                   ...                   ...      ...   ...        ...   \n",
       " 1594                 32.0                  44.0  0.99490  3.45       0.58   \n",
       " 1595                 39.0                  51.0  0.99512  3.52       0.76   \n",
       " 1596                 29.0                  40.0  0.99574  3.42       0.75   \n",
       " 1597                 32.0                  44.0  0.99547  3.57       0.71   \n",
       " 1598                 18.0                  42.0  0.99549  3.39       0.66   \n",
       " \n",
       "       alcohol  \n",
       " 0         9.4  \n",
       " 1         9.8  \n",
       " 2         9.8  \n",
       " 3         9.8  \n",
       " 4         9.4  \n",
       " ...       ...  \n",
       " 1594     10.5  \n",
       " 1595     11.2  \n",
       " 1596     11.0  \n",
       " 1597     10.2  \n",
       " 1598     11.0  \n",
       " \n",
       " [1599 rows x 11 columns],\n",
       "       quality\n",
       " 0           5\n",
       " 1           5\n",
       " 2           5\n",
       " 3           6\n",
       " 4           5\n",
       " ...       ...\n",
       " 1594        5\n",
       " 1595        6\n",
       " 1596        6\n",
       " 1597        5\n",
       " 1598        6\n",
       " \n",
       " [1599 rows x 1 columns])"
      ]
     },
     "execution_count": 29,
     "metadata": {},
     "output_type": "execute_result"
    }
   ],
   "source": [
    "df_X = df_entire.drop(columns=['quality'])\n",
    "df_Y = df_entire[['quality']]\n",
    "df_X, df_Y"
   ]
  },
  {
   "cell_type": "code",
   "execution_count": 30,
   "id": "b214200e",
   "metadata": {
    "ExecuteTime": {
     "end_time": "2022-10-17T21:26:21.638337Z",
     "start_time": "2022-10-17T21:26:21.527792Z"
    }
   },
   "outputs": [],
   "source": [
    "Q1 = df_X.quantile(0.25)\n",
    "Q3 = df_X.quantile(0.75)\n",
    "IQR = Q3 - Q1\n",
    "lcut = Q1 - 1.5*IQR\n",
    "rcut = Q3 + 1.5*IQR\n",
    "L_columns = list(df_X.columns)\n",
    "\n",
    "for col in L_columns:\n",
    "    df_X[col].loc[df_X[col] < lcut[col]] = lcut[col] #np.median(df_X[col])\n",
    "    df_X[col].loc[df_X[col] > rcut[col]] = rcut[col] #np.median(df_X[col])"
   ]
  },
  {
   "cell_type": "code",
   "execution_count": 31,
   "id": "9e1b0873",
   "metadata": {
    "ExecuteTime": {
     "end_time": "2022-10-17T21:26:22.498822Z",
     "start_time": "2022-10-17T21:26:21.640065Z"
    }
   },
   "outputs": [
    {
     "data": {
      "text/plain": [
       "<AxesSubplot:xlabel='alcohol'>"
      ]
     },
     "execution_count": 31,
     "metadata": {},
     "output_type": "execute_result"
    },
    {
     "data": {
      "image/png": "[encoded data removed]",
      "text/plain": [
       "<Figure size 432x288 with 12 Axes>"
      ]
     },
     "metadata": {
      "needs_background": "light"
     },
     "output_type": "display_data"
    }
   ],
   "source": [
    "f, axes = plt.subplots(3,4)\n",
    "sns.boxplot(df_X['fixed acidity'], ax=axes[0,0])\n",
    "sns.boxplot(df_X['volatile acidity'], ax=axes[0,1])\n",
    "sns.boxplot(df_X['citric acid'], ax=axes[0,2])\n",
    "sns.boxplot(df_X['residual sugar'], ax=axes[0,3])\n",
    "sns.boxplot(df_X['chlorides'], ax=axes[1,0])\n",
    "sns.boxplot(df_X['free sulfur dioxide'], ax=axes[1,1])\n",
    "sns.boxplot(df_X['total sulfur dioxide'], ax=axes[1,2])\n",
    "sns.boxplot(df_X['density'], ax=axes[1,3])\n",
    "sns.boxplot(df_X['pH'], ax=axes[2,0])\n",
    "sns.boxplot(df_X['sulphates'], ax=axes[2,1])\n",
    "sns.boxplot(df_X['alcohol'], ax=axes[2,2])"
   ]
  },
  {
   "cell_type": "markdown",
   "id": "0f4b7037",
   "metadata": {},
   "source": [
    "## 2. Modeling\n",
    "\n",
    "1. Train-Test split\n",
    "2. Scaling\n",
    "3. Applying Logistic Regression\n",
    "4. Applying Random-Forest Classifier\n",
    "5. Applying SVM Classifier"
   ]
  },
  {
   "cell_type": "markdown",
   "id": "2a39ad3d",
   "metadata": {},
   "source": [
    "### 2.1 Train-Test split"
   ]
  },
  {
   "cell_type": "code",
   "execution_count": 32,
   "id": "5af2e48d",
   "metadata": {
    "ExecuteTime": {
     "end_time": "2022-10-17T21:26:23.828662Z",
     "start_time": "2022-10-17T21:26:22.501904Z"
    }
   },
   "outputs": [],
   "source": [
    "from sklearn.model_selection import train_test_split"
   ]
  },
  {
   "cell_type": "code",
   "execution_count": 33,
   "id": "54d44162",
   "metadata": {
    "ExecuteTime": {
     "end_time": "2022-10-17T21:26:23.838773Z",
     "start_time": "2022-10-17T21:26:23.833004Z"
    }
   },
   "outputs": [],
   "source": [
    "df_X_revised = df_X.drop(columns=['pH','residual sugar', 'free sulfur dioxide']) #, 'fixed acidity', 'citric acid', 'chlorides', 'density', 'total sulfur dioxide'])"
   ]
  },
  {
   "cell_type": "code",
   "execution_count": 34,
   "id": "8d5288f6",
   "metadata": {
    "ExecuteTime": {
     "end_time": "2022-10-17T21:26:24.130038Z",
     "start_time": "2022-10-17T21:26:23.842501Z"
    }
   },
   "outputs": [],
   "source": [
    "x_train_unscaled, x_test_unscaled, y_train, y_test = train_test_split(df_X_revised, df_Y, test_size=0.4, random_state=111, stratify=df_Y)"
   ]
  },
  {
   "cell_type": "markdown",
   "id": "196d0d23",
   "metadata": {},
   "source": [
    "## 2.2 Scaling"
   ]
  },
  {
   "cell_type": "code",
   "execution_count": 35,
   "id": "e6ec3286",
   "metadata": {
    "ExecuteTime": {
     "end_time": "2022-10-17T21:26:24.151749Z",
     "start_time": "2022-10-17T21:26:24.132291Z"
    }
   },
   "outputs": [],
   "source": [
    "# Robust Scaler\n",
    "## (x-Q1)/(Q3-Q1)\n",
    "## Fit for data with outliers\n",
    "\n",
    "from sklearn.preprocessing import RobustScaler\n",
    "\n",
    "robust_scaler = RobustScaler()\n",
    "x_train = robust_scaler.fit_transform(x_train_unscaled)\n",
    "#df_X = pd.DataFrame(x_train, columns=['fixed acidity', 'volatile acidity', 'citric acid', 'residual sugar', 'chlorides', 'free sulfur dioxide', 'total sulfur dioxide', 'density', 'pH', 'sulphates', 'alcohol'])\n",
    "#df_X.plot.kde()"
   ]
  },
  {
   "cell_type": "code",
   "execution_count": 36,
   "id": "9915dc8f",
   "metadata": {
    "ExecuteTime": {
     "end_time": "2022-10-17T21:26:24.591790Z",
     "start_time": "2022-10-17T21:26:24.585966Z"
    }
   },
   "outputs": [],
   "source": [
    "x_test = robust_scaler.transform(x_test_unscaled)"
   ]
  },
  {
   "cell_type": "markdown",
   "id": "d28536ab",
   "metadata": {},
   "source": [
    "### 2.2 Applying Logistic Regression"
   ]
  },
  {
   "cell_type": "code",
   "execution_count": 37,
   "id": "8220a29e",
   "metadata": {
    "ExecuteTime": {
     "end_time": "2022-10-17T21:26:25.652388Z",
     "start_time": "2022-10-17T21:26:25.308285Z"
    }
   },
   "outputs": [],
   "source": [
    "from sklearn.linear_model import LogisticRegression\n",
    "from sklearn.metrics import confusion_matrix, accuracy_score, roc_auc_score, plot_confusion_matrix, classification_report"
   ]
  },
  {
   "cell_type": "code",
   "execution_count": 38,
   "id": "50230f06",
   "metadata": {
    "ExecuteTime": {
     "end_time": "2022-10-17T21:26:26.027252Z",
     "start_time": "2022-10-17T21:26:25.662554Z"
    }
   },
   "outputs": [
    {
     "data": {
      "text/plain": [
       "LogisticRegression(random_state=111)"
      ]
     },
     "execution_count": 38,
     "metadata": {},
     "output_type": "execute_result"
    }
   ],
   "source": [
    "logReg = LogisticRegression(random_state=111)\n",
    "logReg.fit(x_train, y_train)"
   ]
  },
  {
   "cell_type": "code",
   "execution_count": 39,
   "id": "b661222f",
   "metadata": {
    "ExecuteTime": {
     "end_time": "2022-10-17T21:26:26.651921Z",
     "start_time": "2022-10-17T21:26:26.029970Z"
    },
    "scrolled": true
   },
   "outputs": [
    {
     "data": {
      "image/png": "[encoded data removed]",
      "text/plain": [
       "<Figure size 432x288 with 2 Axes>"
      ]
     },
     "metadata": {
      "needs_background": "light"
     },
     "output_type": "display_data"
    }
   ],
   "source": [
    "#prediction and evaluation\n",
    "y_pred = logReg.predict(x_test)\n",
    "plot_confusion_matrix(logReg, x_test, y_test)\n",
    "plt.show()"
   ]
  },
  {
   "cell_type": "code",
   "execution_count": 40,
   "id": "f05ab5de",
   "metadata": {
    "ExecuteTime": {
     "end_time": "2022-10-17T21:26:26.660001Z",
     "start_time": "2022-10-17T21:26:26.653894Z"
    }
   },
   "outputs": [
    {
     "name": "stdout",
     "output_type": "stream",
     "text": [
      "accuracy score for test data 0.5859375\n",
      "accuracy score for training data 0.5954118873826904\n"
     ]
    }
   ],
   "source": [
    "#accuracy score\n",
    "\n",
    "print(\"accuracy score for test data\", logReg.score(x_test, y_test))\n",
    "print(\"accuracy score for training data\", logReg.score(x_train, y_train))"
   ]
  },
  {
   "cell_type": "code",
   "execution_count": 41,
   "id": "f1727f83",
   "metadata": {
    "ExecuteTime": {
     "end_time": "2022-10-17T21:26:26.797677Z",
     "start_time": "2022-10-17T21:26:26.785528Z"
    }
   },
   "outputs": [
    {
     "name": "stdout",
     "output_type": "stream",
     "text": [
      "              precision    recall  f1-score   support\n",
      "\n",
      "           3       0.00      0.00      0.00         4\n",
      "           4       0.00      0.00      0.00        21\n",
      "           5       0.63      0.78      0.70       273\n",
      "           6       0.54      0.55      0.55       255\n",
      "           7       0.47      0.29      0.36        80\n",
      "           8       0.00      0.00      0.00         7\n",
      "\n",
      "    accuracy                           0.59       640\n",
      "   macro avg       0.27      0.27      0.27       640\n",
      "weighted avg       0.55      0.59      0.56       640\n",
      "\n"
     ]
    }
   ],
   "source": [
    "print(classification_report(y_test, y_pred))"
   ]
  },
  {
   "cell_type": "markdown",
   "id": "84f40c93",
   "metadata": {},
   "source": [
    "#### Inference: Using Logistic regression that the difference between accuracies of training data and test data is about 5% indicating no overfitting "
   ]
  },
  {
   "cell_type": "markdown",
   "id": "d7ccdeab",
   "metadata": {},
   "source": [
    "## Performing PCA to handle multicolinearity. \n",
    "### Principal components are used as features to train Random Forest."
   ]
  },
  {
   "cell_type": "code",
   "execution_count": 42,
   "id": "835857f8",
   "metadata": {
    "ExecuteTime": {
     "end_time": "2022-10-17T21:26:31.038969Z",
     "start_time": "2022-10-17T21:26:30.500236Z"
    }
   },
   "outputs": [
    {
     "data": {
      "image/png": "[encoded data removed]",
      "text/plain": [
       "<Figure size 432x288 with 1 Axes>"
      ]
     },
     "metadata": {},
     "output_type": "display_data"
    },
    {
     "data": {
      "text/plain": [
       "None"
      ]
     },
     "metadata": {},
     "output_type": "display_data"
    },
    {
     "data": {
      "text/html": [
       "<div>\n",
       "<style scoped>\n",
       "    .dataframe tbody tr th:only-of-type {\n",
       "        vertical-align: middle;\n",
       "    }\n",
       "\n",
       "    .dataframe tbody tr th {\n",
       "        vertical-align: top;\n",
       "    }\n",
       "\n",
       "    .dataframe thead th {\n",
       "        text-align: right;\n",
       "    }\n",
       "</style>\n",
       "<table border=\"1\" class=\"dataframe\">\n",
       "  <thead>\n",
       "    <tr style=\"text-align: right;\">\n",
       "      <th></th>\n",
       "      <th>Cumulative Variance Ratio</th>\n",
       "      <th>Explained Variance Ratio</th>\n",
       "    </tr>\n",
       "  </thead>\n",
       "  <tbody>\n",
       "    <tr>\n",
       "      <th>0</th>\n",
       "      <td>0.331873</td>\n",
       "      <td>0.331873</td>\n",
       "    </tr>\n",
       "    <tr>\n",
       "      <th>1</th>\n",
       "      <td>0.557983</td>\n",
       "      <td>0.226110</td>\n",
       "    </tr>\n",
       "    <tr>\n",
       "      <th>2</th>\n",
       "      <td>0.685424</td>\n",
       "      <td>0.127441</td>\n",
       "    </tr>\n",
       "    <tr>\n",
       "      <th>3</th>\n",
       "      <td>0.802129</td>\n",
       "      <td>0.116706</td>\n",
       "    </tr>\n",
       "    <tr>\n",
       "      <th>4</th>\n",
       "      <td>0.888526</td>\n",
       "      <td>0.086397</td>\n",
       "    </tr>\n",
       "    <tr>\n",
       "      <th>5</th>\n",
       "      <td>0.956985</td>\n",
       "      <td>0.068459</td>\n",
       "    </tr>\n",
       "    <tr>\n",
       "      <th>6</th>\n",
       "      <td>0.981786</td>\n",
       "      <td>0.024801</td>\n",
       "    </tr>\n",
       "    <tr>\n",
       "      <th>7</th>\n",
       "      <td>1.000000</td>\n",
       "      <td>0.018214</td>\n",
       "    </tr>\n",
       "  </tbody>\n",
       "</table>\n",
       "</div>"
      ],
      "text/plain": [
       "   Cumulative Variance Ratio  Explained Variance Ratio\n",
       "0                   0.331873                  0.331873\n",
       "1                   0.557983                  0.226110\n",
       "2                   0.685424                  0.127441\n",
       "3                   0.802129                  0.116706\n",
       "4                   0.888526                  0.086397\n",
       "5                   0.956985                  0.068459\n",
       "6                   0.981786                  0.024801\n",
       "7                   1.000000                  0.018214"
      ]
     },
     "metadata": {},
     "output_type": "display_data"
    }
   ],
   "source": [
    "#Applying PCA and apt number of principal components for the dataset.\n",
    "\n",
    "import matplotlib.pyplot as plt\n",
    "import seaborn as sns\n",
    "from sklearn.decomposition import PCA\n",
    "pca_test = PCA(n_components=8)\n",
    "pca_test.fit(x_train)\n",
    "sns.set(style='whitegrid')\n",
    "plt.plot(np.cumsum(pca_test.explained_variance_ratio_))\n",
    "plt.xlabel('number of components')\n",
    "plt.ylabel('cumulative explained variance')\n",
    "plt.axvline(linewidth=4, color='r', linestyle = '--', x=5, ymin=0, ymax=1)\n",
    "display(plt.show())\n",
    "evr = pca_test.explained_variance_ratio_\n",
    "cvr = np.cumsum(pca_test.explained_variance_ratio_)\n",
    "pca_df = pd.DataFrame()\n",
    "pca_df['Cumulative Variance Ratio'] = cvr\n",
    "pca_df['Explained Variance Ratio'] = evr\n",
    "display(pca_df.head(10))\n"
   ]
  },
  {
   "cell_type": "markdown",
   "id": "09f3da1c",
   "metadata": {},
   "source": [
    "### It can be seen from the PCA that with 5 components about 95% of the variance is covered. We will now use n=5 to get principle components for further training with Random forest classifier."
   ]
  },
  {
   "cell_type": "code",
   "execution_count": 43,
   "id": "7222eb40",
   "metadata": {
    "ExecuteTime": {
     "end_time": "2022-10-17T21:26:32.617636Z",
     "start_time": "2022-10-17T21:26:32.401213Z"
    }
   },
   "outputs": [],
   "source": [
    "pca = PCA(n_components=5)\n",
    "pca.fit(x_train)\n",
    "\n",
    "x_train_pca = pca.transform(x_train)\n",
    "x_test_pca = pca.transform(x_test)"
   ]
  },
  {
   "cell_type": "markdown",
   "id": "6cfc1122",
   "metadata": {},
   "source": [
    "### 2.3 Applying Random Forest Classifier"
   ]
  },
  {
   "cell_type": "code",
   "execution_count": 44,
   "id": "a0545ec6",
   "metadata": {
    "ExecuteTime": {
     "end_time": "2022-10-17T21:26:35.199267Z",
     "start_time": "2022-10-17T21:26:34.865091Z"
    }
   },
   "outputs": [],
   "source": [
    "from sklearn.ensemble import RandomForestClassifier\n",
    "from sklearn.metrics import mean_squared_error"
   ]
  },
  {
   "cell_type": "code",
   "execution_count": 84,
   "id": "d9eab03f",
   "metadata": {
    "ExecuteTime": {
     "end_time": "2022-10-17T21:48:52.578292Z",
     "start_time": "2022-10-17T21:48:52.573314Z"
    }
   },
   "outputs": [],
   "source": [
    "rf = RandomForestClassifier(random_state=111, class_weight=None)\n",
    "#rf.fit(x_train, y_train)"
   ]
  },
  {
   "cell_type": "code",
   "execution_count": 94,
   "id": "e7edc10f",
   "metadata": {
    "ExecuteTime": {
     "end_time": "2022-10-17T21:59:44.818697Z",
     "start_time": "2022-10-17T21:59:44.812032Z"
    }
   },
   "outputs": [
    {
     "name": "stdout",
     "output_type": "stream",
     "text": [
      "{'criterion': ['gini'], 'n_estimators': [100], 'max_features': range(2, 5), 'max_depth': range(7, 10), 'min_samples_split': range(2, 6), 'min_samples_leaf': [2], 'bootstrap': [True], 'oob_score': [False]}\n"
     ]
    }
   ],
   "source": [
    "#hyperparameter tuning\n",
    "from sklearn.model_selection import RandomizedSearchCV, GridSearchCV\n",
    "\n",
    "criterion = ['gini']\n",
    "# Number of trees in random forest\n",
    "n_estimators = [100]\n",
    "\n",
    "# Number of features to consider at every split\n",
    "max_features = range(2,5)\n",
    "\n",
    "# Maximum number of levels in tree\n",
    "max_depth = range(7,10)\n",
    "#max_depth.append(None)\n",
    "\n",
    "# Minimum number of samples required to split a node\n",
    "min_samples_split = range(2,6)\n",
    "\n",
    "# Minimum number of samples required at each leaf node\n",
    "min_samples_leaf = [2]\n",
    "\n",
    "# Method of selecting samples for training each tree\n",
    "bootstrap = [True]\n",
    "\n",
    "oob_score = [False]\n",
    "\n",
    "# Create the random grid\n",
    "random_grid = {'criterion': criterion,\n",
    "               'n_estimators': n_estimators,\n",
    "               'max_features': max_features,\n",
    "               'max_depth': max_depth,\n",
    "               'min_samples_split': min_samples_split,\n",
    "               'min_samples_leaf': min_samples_leaf,\n",
    "               'bootstrap': bootstrap,\n",
    "               'oob_score': oob_score}\n",
    "print(random_grid)"
   ]
  },
  {
   "cell_type": "code",
   "execution_count": 95,
   "id": "b148b8ab",
   "metadata": {
    "ExecuteTime": {
     "end_time": "2022-10-17T22:00:26.633978Z",
     "start_time": "2022-10-17T21:59:45.907053Z"
    }
   },
   "outputs": [
    {
     "name": "stdout",
     "output_type": "stream",
     "text": [
      "Fitting 10 folds for each of 36 candidates, totalling 360 fits\n"
     ]
    },
    {
     "name": "stderr",
     "output_type": "stream",
     "text": [
      "[Parallel(n_jobs=-1)]: Using backend LokyBackend with 4 concurrent workers.\n",
      "[Parallel(n_jobs=-1)]: Done  33 tasks      | elapsed:    3.5s\n",
      "[Parallel(n_jobs=-1)]: Done 154 tasks      | elapsed:   16.5s\n",
      "[Parallel(n_jobs=-1)]: Done 360 out of 360 | elapsed:   40.5s finished\n"
     ]
    },
    {
     "data": {
      "text/plain": [
       "GridSearchCV(cv=10, estimator=RandomForestClassifier(random_state=111),\n",
       "             n_jobs=-1,\n",
       "             param_grid={'bootstrap': [True], 'criterion': ['gini'],\n",
       "                         'max_depth': range(7, 10), 'max_features': range(2, 5),\n",
       "                         'min_samples_leaf': [2],\n",
       "                         'min_samples_split': range(2, 6),\n",
       "                         'n_estimators': [100], 'oob_score': [False]},\n",
       "             return_train_score=True, scoring='f1_weighted', verbose=2)"
      ]
     },
     "execution_count": 95,
     "metadata": {},
     "output_type": "execute_result"
    }
   ],
   "source": [
    "#rf_random = RandomizedSearchCV(estimator=rf, param_distributions=random_grid, n_iter=100, cv=10, n_jobs=-1)\n",
    "rf_random = GridSearchCV(estimator=rf, param_grid=random_grid, cv=10, n_jobs=-1, verbose=2, scoring='f1_weighted', return_train_score=True)\n",
    "rf_random.fit(x_train_pca, y_train)"
   ]
  },
  {
   "cell_type": "code",
   "execution_count": 96,
   "id": "bc3770b8",
   "metadata": {
    "ExecuteTime": {
     "end_time": "2022-10-17T22:00:26.891111Z",
     "start_time": "2022-10-17T22:00:26.637448Z"
    }
   },
   "outputs": [
    {
     "data": {
      "text/plain": [
       "<BarContainer object of 5 artists>"
      ]
     },
     "execution_count": 96,
     "metadata": {},
     "output_type": "execute_result"
    },
    {
     "data": {
      "image/png": "[encoded data removed]",
      "text/plain": [
       "<Figure size 432x288 with 1 Axes>"
      ]
     },
     "metadata": {},
     "output_type": "display_data"
    }
   ],
   "source": [
    "sorted_idx = rf_random.best_estimator_.feature_importances_.argsort()\n",
    "plt.barh(df_X.columns[sorted_idx],rf_random.best_estimator_.feature_importances_[sorted_idx])"
   ]
  },
  {
   "cell_type": "code",
   "execution_count": 97,
   "id": "688ca765",
   "metadata": {
    "ExecuteTime": {
     "end_time": "2022-10-17T22:00:26.898000Z",
     "start_time": "2022-10-17T22:00:26.893602Z"
    }
   },
   "outputs": [
    {
     "data": {
      "text/plain": [
       "{'bootstrap': True,\n",
       " 'criterion': 'gini',\n",
       " 'max_depth': 8,\n",
       " 'max_features': 2,\n",
       " 'min_samples_leaf': 2,\n",
       " 'min_samples_split': 5,\n",
       " 'n_estimators': 100,\n",
       " 'oob_score': False}"
      ]
     },
     "execution_count": 97,
     "metadata": {},
     "output_type": "execute_result"
    }
   ],
   "source": [
    "rf_random.best_params_"
   ]
  },
  {
   "cell_type": "code",
   "execution_count": 98,
   "id": "e0779a8d",
   "metadata": {
    "ExecuteTime": {
     "end_time": "2022-10-17T22:00:27.032007Z",
     "start_time": "2022-10-17T22:00:26.901291Z"
    }
   },
   "outputs": [
    {
     "name": "stdout",
     "output_type": "stream",
     "text": [
      "best model score on training data 0.8196037539103233\n",
      "best model score on test data:  0.621875\n"
     ]
    }
   ],
   "source": [
    "print(\"best model score on training data\", rf_random.best_estimator_.score(x_train_pca, y_train))\n",
    "print(\"best model score on test data: \", rf_random.best_estimator_.score(x_test_pca, y_test))"
   ]
  },
  {
   "cell_type": "code",
   "execution_count": null,
   "id": "7f9fa939",
   "metadata": {},
   "outputs": [],
   "source": []
  },
  {
   "cell_type": "code",
   "execution_count": null,
   "id": "4c003f77",
   "metadata": {},
   "outputs": [],
   "source": []
  },
  {
   "cell_type": "code",
   "execution_count": null,
   "id": "1a9ca2ce",
   "metadata": {},
   "outputs": [],
   "source": []
  },
  {
   "cell_type": "code",
   "execution_count": 68,
   "id": "9bd4ab47",
   "metadata": {
    "ExecuteTime": {
     "end_time": "2022-10-17T21:35:27.379616Z",
     "start_time": "2022-10-17T21:35:27.105291Z"
    }
   },
   "outputs": [
    {
     "name": "stdout",
     "output_type": "stream",
     "text": [
      "Best RFC accuracy score on test data:  0.603125\n",
      "Best RFC accuracy score on training data:  0.8300312825860271\n",
      "Best RFC hyperparameters:  {'bootstrap': True, 'ccp_alpha': 0.0, 'class_weight': None, 'criterion': 'gini', 'max_depth': 8, 'max_features': 2, 'max_leaf_nodes': None, 'max_samples': None, 'min_impurity_decrease': 0.0, 'min_impurity_split': None, 'min_samples_leaf': 2, 'min_samples_split': 2, 'min_weight_fraction_leaf': 0.0, 'n_estimators': 100, 'n_jobs': None, 'oob_score': False, 'random_state': 11, 'verbose': 0, 'warm_start': False}\n"
     ]
    }
   ],
   "source": [
    "#best model\n",
    "rfc_best = RandomForestClassifier(random_state=11, max_depth=8, max_features=2,\n",
    "                                  min_samples_leaf=2, min_samples_split=2, bootstrap=True)\n",
    "rfc_best.fit(x_train_pca, y_train)\n",
    "print(\"Best RFC accuracy score on test data: \",rfc_best.score(x_test_pca, y_test))\n",
    "print(\"Best RFC accuracy score on training data: \",rfc_best.score(x_train_pca, y_train))\n",
    "print(\"Best RFC hyperparameters: \", rfc_best.get_params())"
   ]
  },
  {
   "cell_type": "code",
   "execution_count": 65,
   "id": "9114dc5e",
   "metadata": {
    "ExecuteTime": {
     "end_time": "2022-10-17T21:34:50.061539Z",
     "start_time": "2022-10-17T21:34:50.058629Z"
    }
   },
   "outputs": [],
   "source": [
    "#prediction\n",
    "#y_pred_rf = rf_random.best_estimator_.predict(x_test)"
   ]
  },
  {
   "cell_type": "code",
   "execution_count": 99,
   "id": "f2e12a44",
   "metadata": {
    "ExecuteTime": {
     "end_time": "2022-10-17T22:00:47.902892Z",
     "start_time": "2022-10-17T22:00:47.595575Z"
    }
   },
   "outputs": [
    {
     "name": "stdout",
     "output_type": "stream",
     "text": [
      "default RFC accuracy score on test data:  0.6375\n",
      "default RFC accuracy score on training data:  1.0\n",
      "default RFC hyperparameters:  {'bootstrap': True, 'ccp_alpha': 0.0, 'class_weight': None, 'criterion': 'gini', 'max_depth': None, 'max_features': 'auto', 'max_leaf_nodes': None, 'max_samples': None, 'min_impurity_decrease': 0.0, 'min_impurity_split': None, 'min_samples_leaf': 1, 'min_samples_split': 2, 'min_weight_fraction_leaf': 0.0, 'n_estimators': 100, 'n_jobs': None, 'oob_score': False, 'random_state': 11, 'verbose': 0, 'warm_start': False}\n"
     ]
    }
   ],
   "source": [
    "#base model\n",
    "rfc = RandomForestClassifier(random_state=11)\n",
    "rfc.fit(x_train_pca, y_train)\n",
    "print(\"default RFC accuracy score on test data: \",rfc.score(x_test_pca, y_test))\n",
    "print(\"default RFC accuracy score on training data: \",rfc.score(x_train_pca, y_train))\n",
    "print(\"default RFC hyperparameters: \", rfc.get_params())"
   ]
  },
  {
   "cell_type": "code",
   "execution_count": 67,
   "id": "b546be63",
   "metadata": {
    "ExecuteTime": {
     "end_time": "2022-10-17T21:34:50.474118Z",
     "start_time": "2022-10-17T21:34:50.470721Z"
    }
   },
   "outputs": [],
   "source": [
    "#print(classification_report(y_test, y_pred_rf))"
   ]
  },
  {
   "cell_type": "markdown",
   "id": "8f7f7126",
   "metadata": {},
   "source": [
    "#### Inference: Using RF classifier with PCA and with hyperparam tuning, the best accuracy obtained on test data is 60%. Notably, there is about 23% difference b/w accuracy score of test and training data indicating high variance.\n",
    "\n",
    "#### Also note that with baseline Random Forest model, the testing and training accuracies are respectively 63.75% and 100%. This indicates overfitting or high-variance."
   ]
  },
  {
   "cell_type": "markdown",
   "id": "092f3b45",
   "metadata": {},
   "source": [
    "### 2.4 Applying SVM Classifier"
   ]
  },
  {
   "cell_type": "code",
   "execution_count": 661,
   "id": "f81a7d92",
   "metadata": {
    "ExecuteTime": {
     "end_time": "2022-10-17T09:34:39.225951Z",
     "start_time": "2022-10-17T09:34:39.222531Z"
    }
   },
   "outputs": [],
   "source": [
    "from sklearn.svm import SVC\n",
    "from sklearn.decomposition import PCA\n",
    "from sklearn.pipeline import make_pipeline\n",
    "\n",
    "#pca = PCA(n_components=5, whiten=True, random_state=42)\n",
    "svc = SVC(kernel='rbf', class_weight='balanced')\n",
    "#model = make_pipeline(pca, svc)\n",
    "model = make_pipeline(svc)"
   ]
  },
  {
   "cell_type": "code",
   "execution_count": 662,
   "id": "f9f33063",
   "metadata": {
    "ExecuteTime": {
     "end_time": "2022-10-17T09:35:46.723877Z",
     "start_time": "2022-10-17T09:34:39.428304Z"
    }
   },
   "outputs": [
    {
     "name": "stdout",
     "output_type": "stream",
     "text": [
      "8.37 s ± 345 ms per loop (mean ± std. dev. of 7 runs, 1 loop each)\n",
      "{'svc__C': 10, 'svc__gamma': 1.0}\n"
     ]
    }
   ],
   "source": [
    "from sklearn.model_selection import GridSearchCV\n",
    "param_grid = {'svc__C': [1, 5, 10, 50],\n",
    "              'svc__gamma': [0.0001, 0.0005, 0.001, 0.005, 1.0]}\n",
    "grid = GridSearchCV(model, param_grid)\n",
    "\n",
    "%timeit grid.fit(x_train, y_train)\n",
    "print(grid.best_params_)"
   ]
  },
  {
   "cell_type": "code",
   "execution_count": 663,
   "id": "88f61055",
   "metadata": {
    "ExecuteTime": {
     "end_time": "2022-10-17T09:35:46.742024Z",
     "start_time": "2022-10-17T09:35:46.727430Z"
    }
   },
   "outputs": [],
   "source": [
    "#prediction\n",
    "model = grid.best_estimator_\n",
    "y_pred_svc = model.predict(x_test)"
   ]
  },
  {
   "cell_type": "code",
   "execution_count": 664,
   "id": "edfdf601",
   "metadata": {
    "ExecuteTime": {
     "end_time": "2022-10-17T09:35:46.937977Z",
     "start_time": "2022-10-17T09:35:46.744265Z"
    }
   },
   "outputs": [
    {
     "name": "stdout",
     "output_type": "stream",
     "text": [
      "accuracy score for test data:  0.6125\n",
      "accuracy score for training data:  0.9601250977326036\n"
     ]
    }
   ],
   "source": [
    "print(\"accuracy score for test data: \", model.score(x_test, y_test))\n",
    "print(\"accuracy score for training data: \", model.score(x_train, y_train))"
   ]
  },
  {
   "cell_type": "code",
   "execution_count": 665,
   "id": "b03feb45",
   "metadata": {
    "ExecuteTime": {
     "end_time": "2022-10-17T09:35:46.975184Z",
     "start_time": "2022-10-17T09:35:46.940053Z"
    }
   },
   "outputs": [
    {
     "name": "stdout",
     "output_type": "stream",
     "text": [
      "classification report:                precision    recall  f1-score   support\n",
      "\n",
      "           3       0.00      0.00      0.00         2\n",
      "           4       0.09      0.09      0.09        11\n",
      "           5       0.69      0.71      0.70       136\n",
      "           6       0.60      0.59      0.60       128\n",
      "           7       0.52      0.55      0.54        40\n",
      "           8       0.00      0.00      0.00         3\n",
      "\n",
      "    accuracy                           0.61       320\n",
      "   macro avg       0.32      0.32      0.32       320\n",
      "weighted avg       0.60      0.61      0.61       320\n",
      "\n"
     ]
    }
   ],
   "source": [
    "print(\"classification report: \", classification_report(y_test, y_pred_svc))"
   ]
  },
  {
   "cell_type": "markdown",
   "id": "57f13bf0",
   "metadata": {},
   "source": [
    "#### Inference: Using SVM classifier, the best accuracy obtained on the test data is about 57%. Notably, there is about 33% difference between the accuracy of test and training data indicating higher variance."
   ]
  },
  {
   "cell_type": "markdown",
   "id": "6ce51643",
   "metadata": {},
   "source": [
    "#### Various models have been tried but the test accuracy is not satisfactory. Even after hyperparameter tuning with k-fold cross-validation, the test accuracy is similar to that of baseline model. This is perhaps due to the severe imbalance in classes."
   ]
  },
  {
   "cell_type": "markdown",
   "id": "329714de",
   "metadata": {},
   "source": [
    "# Addressing class imbalance issue"
   ]
  },
  {
   "cell_type": "code",
   "execution_count": 109,
   "id": "3d775297",
   "metadata": {
    "ExecuteTime": {
     "end_time": "2022-10-17T22:19:51.922230Z",
     "start_time": "2022-10-17T22:19:51.652357Z"
    }
   },
   "outputs": [
    {
     "data": {
      "text/plain": [
       "<AxesSubplot:xlabel='quality', ylabel='count'>"
      ]
     },
     "execution_count": 109,
     "metadata": {},
     "output_type": "execute_result"
    },
    {
     "data": {
      "image/png": "[encoded data removed]",
      "text/plain": [
       "<Figure size 432x288 with 1 Axes>"
      ]
     },
     "metadata": {},
     "output_type": "display_data"
    }
   ],
   "source": [
    "#Class Imbalance issue\n",
    "df_Y_copy = df_Y.copy()\n",
    "sns.countplot(x=df_Y_copy['quality'])"
   ]
  },
  {
   "cell_type": "code",
   "execution_count": 110,
   "id": "9d2bbaf7",
   "metadata": {
    "ExecuteTime": {
     "end_time": "2022-10-17T22:20:01.962728Z",
     "start_time": "2022-10-17T22:20:01.951201Z"
    }
   },
   "outputs": [],
   "source": [
    "df_3 = df_entire[df_entire.quality==3]     # MINORITY          \n",
    "df_4 = df_entire[df_entire.quality==4]     # MINORITY          \n",
    "df_5 = df_entire[df_entire.quality==5]     # MAJORITY\n",
    "df_6 = df_entire[df_entire.quality==6]     # MAJORITY\n",
    "df_7 = df_entire[df_entire.quality==7]     # MINORITY\n",
    "df_8 = df_entire[df_entire.quality==8]     # MINORITY\n",
    "\n",
    "#We had already established it earlier that except quality 5 and 6, all the others are minority!"
   ]
  },
  {
   "cell_type": "code",
   "execution_count": 111,
   "id": "a7260e7d",
   "metadata": {
    "ExecuteTime": {
     "end_time": "2022-10-17T22:20:05.502954Z",
     "start_time": "2022-10-17T22:20:05.487182Z"
    }
   },
   "outputs": [],
   "source": [
    "# Oversample MINORITY Class to make balance data :\n",
    "from sklearn.utils import resample\n",
    "\n",
    "df_3_upsampled = resample(df_3, replace=True, n_samples=600, random_state=12) \n",
    "df_4_upsampled = resample(df_4, replace=True, n_samples=600, random_state=12) \n",
    "df_7_upsampled = resample(df_7, replace=True, n_samples=600, random_state=12) \n",
    "df_8_upsampled = resample(df_8, replace=True, n_samples=600, random_state=12) \n",
    "\n",
    "# Decreases the rows of Majority one's to make balance data :\n",
    "df_5_downsampled = df_entire[df_entire.quality==5].sample(n=600).reset_index(drop=True)\n",
    "df_6_downsampled = df_entire[df_entire.quality==6].sample(n=600).reset_index(drop=True)"
   ]
  },
  {
   "cell_type": "code",
   "execution_count": 112,
   "id": "051c6766",
   "metadata": {
    "ExecuteTime": {
     "end_time": "2022-10-17T22:20:07.230416Z",
     "start_time": "2022-10-17T22:20:07.221573Z"
    }
   },
   "outputs": [
    {
     "data": {
      "text/plain": [
       "7    600\n",
       "5    600\n",
       "3    600\n",
       "8    600\n",
       "6    600\n",
       "4    600\n",
       "Name: quality, dtype: int64"
      ]
     },
     "execution_count": 112,
     "metadata": {},
     "output_type": "execute_result"
    }
   ],
   "source": [
    "# Combine downsampled majority class with upsampled minority class\n",
    "Balanced_df = pd.concat([df_3_upsampled, df_4_upsampled, df_7_upsampled, \n",
    "                         df_8_upsampled, df_5_downsampled, df_6_downsampled]).reset_index(drop=True)\n",
    "\n",
    "\n",
    "# Display new class counts\n",
    "Balanced_df.quality.value_counts()  "
   ]
  },
  {
   "cell_type": "code",
   "execution_count": 113,
   "id": "d492c552",
   "metadata": {
    "ExecuteTime": {
     "end_time": "2022-10-17T22:20:12.223633Z",
     "start_time": "2022-10-17T22:20:12.203205Z"
    }
   },
   "outputs": [
    {
     "data": {
      "text/plain": [
       "(      fixed acidity  volatile acidity  citric acid  residual sugar  chlorides  \\\n",
       " 0               6.8             0.815         0.00            1.20      0.267   \n",
       " 1              10.4             0.610         0.49            2.10      0.200   \n",
       " 2               7.4             1.185         0.00            4.25      0.097   \n",
       " 3              10.4             0.440         0.42            1.50      0.145   \n",
       " 4              10.4             0.440         0.42            1.50      0.145   \n",
       " ...             ...               ...          ...             ...        ...   \n",
       " 3595            8.3             0.340         0.40            2.40      0.065   \n",
       " 3596           10.5             0.360         0.47            2.20      0.074   \n",
       " 3597            8.0             0.580         0.16            2.00      0.120   \n",
       " 3598           11.9             0.570         0.50            2.60      0.082   \n",
       " 3599            7.4             0.290         0.38            1.70      0.062   \n",
       " \n",
       "       free sulfur dioxide  total sulfur dioxide  density    pH  sulphates  \\\n",
       " 0                    16.0                  29.0  0.99471  3.32       0.51   \n",
       " 1                     5.0                  16.0  0.99940  3.16       0.63   \n",
       " 2                     5.0                  14.0  0.99660  3.63       0.54   \n",
       " 3                    34.0                  48.0  0.99832  3.38       0.86   \n",
       " 4                    34.0                  48.0  0.99832  3.38       0.86   \n",
       " ...                   ...                   ...      ...   ...        ...   \n",
       " 3595                 24.0                  48.0  0.99554  3.34       0.86   \n",
       " 3596                  9.0                  23.0  0.99638  3.23       0.76   \n",
       " 3597                  3.0                   7.0  0.99454  3.22       0.58   \n",
       " 3598                  6.0                  32.0  1.00060  3.12       0.78   \n",
       " 3599                  9.0                  30.0  0.99680  3.41       0.53   \n",
       " \n",
       "       alcohol  \n",
       " 0         9.8  \n",
       " 1         8.4  \n",
       " 2        10.7  \n",
       " 3         9.9  \n",
       " 4         9.9  \n",
       " ...       ...  \n",
       " 3595     11.0  \n",
       " 3596     12.0  \n",
       " 3597     11.2  \n",
       " 3598     10.7  \n",
       " 3599      9.5  \n",
       " \n",
       " [3600 rows x 11 columns],\n",
       "       quality\n",
       " 0           3\n",
       " 1           3\n",
       " 2           3\n",
       " 3           3\n",
       " 4           3\n",
       " ...       ...\n",
       " 3595        6\n",
       " 3596        6\n",
       " 3597        6\n",
       " 3598        6\n",
       " 3599        6\n",
       " \n",
       " [3600 rows x 1 columns])"
      ]
     },
     "execution_count": 113,
     "metadata": {},
     "output_type": "execute_result"
    }
   ],
   "source": [
    "Balanced_df_X = Balanced_df.drop(columns=['quality'])\n",
    "Balanced_df_y = Balanced_df[['quality']]\n",
    "\n",
    "Balanced_df_X, Balanced_df_y"
   ]
  },
  {
   "cell_type": "code",
   "execution_count": 152,
   "id": "314bb972",
   "metadata": {
    "ExecuteTime": {
     "end_time": "2022-10-17T22:38:45.250731Z",
     "start_time": "2022-10-17T22:38:45.185882Z"
    }
   },
   "outputs": [],
   "source": [
    "xb_train, xb_test, yb_train, yb_test = train_test_split(Balanced_df_X, Balanced_df_y, test_size = 0.2, random_state=100, stratify=Balanced_df_y)"
   ]
  },
  {
   "cell_type": "code",
   "execution_count": 156,
   "id": "5bab00a4",
   "metadata": {
    "ExecuteTime": {
     "end_time": "2022-10-17T22:39:31.243105Z",
     "start_time": "2022-10-17T22:39:30.815018Z"
    }
   },
   "outputs": [
    {
     "name": "stdout",
     "output_type": "stream",
     "text": [
      "Balanced RFC accuracy score on test data:  0.9125\n",
      "Balanced RFC accuracy score on training data:  1.0\n",
      "Balanced RFC hyperparameters:  {'bootstrap': True, 'ccp_alpha': 0.0, 'class_weight': None, 'criterion': 'gini', 'max_depth': None, 'max_features': 2, 'max_leaf_nodes': None, 'max_samples': None, 'min_impurity_decrease': 0.0, 'min_impurity_split': None, 'min_samples_leaf': 1, 'min_samples_split': 3, 'min_weight_fraction_leaf': 0.0, 'n_estimators': 100, 'n_jobs': None, 'oob_score': False, 'random_state': 11, 'verbose': 0, 'warm_start': False}\n"
     ]
    }
   ],
   "source": [
    "#best model\n",
    "rfc_balanced = RandomForestClassifier(random_state=11, max_depth=None, max_features=2,\n",
    "                                  min_samples_leaf=1, min_samples_split=3, bootstrap=True)\n",
    "rfc_balanced.fit(xb_train, yb_train)\n",
    "print(\"Balanced RFC accuracy score on test data: \",rfc_balanced.score(xb_test, yb_test))\n",
    "print(\"Balanced RFC accuracy score on training data: \",rfc_balanced.score(xb_train, yb_train))\n",
    "print(\"Balanced RFC hyperparameters: \", rfc_balanced.get_params())"
   ]
  },
  {
   "cell_type": "markdown",
   "id": "dc77a220",
   "metadata": {},
   "source": [
    "#### Conclusion: The dataset suffered from class imbalance issue. Once the classes are made balanced then even the base random classifier model yielded excellent results. With max_features=2, the accuracy slightly increased further."
   ]
  },
  {
   "cell_type": "code",
   "execution_count": null,
   "id": "4b9f8084",
   "metadata": {},
   "outputs": [],
   "source": []
  }
 ],
 "metadata": {
  "kernelspec": {
   "display_name": "Python 3",
   "language": "python",
   "name": "python3"
  },
  "language_info": {
   "codemirror_mode": {
    "name": "ipython",
    "version": 3
   },
   "file_extension": ".py",
   "mimetype": "text/x-python",
   "name": "python",
   "nbconvert_exporter": "python",
   "pygments_lexer": "ipython3",
   "version": "3.8.8"
  }
 },
 "nbformat": 4,
 "nbformat_minor": 5
}
