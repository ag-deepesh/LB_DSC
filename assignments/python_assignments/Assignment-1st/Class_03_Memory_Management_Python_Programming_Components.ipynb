{
 "cells": [
  {
   "cell_type": "code",
   "execution_count": 1,
   "id": "304403c4",
   "metadata": {
    "ExecuteTime": {
     "end_time": "2021-09-26T03:07:25.493495Z",
     "start_time": "2021-09-26T03:07:25.485237Z"
    }
   },
   "outputs": [],
   "source": [
    "# Memory Management in Python\n",
    "# Raw Memory Allocator, Object Specific Allocator Python Virtual Machine & Interpreter\n",
    "# Memory deallocation in Python\n",
    "# Automatic garbage collection in Python \n",
    "# Memory management visualisation\n",
    "# Input and Output functions in Python\n",
    "# Python programming components\n",
    "# Literal, constant, variables, identifiers, Reserved Words, Expression Statements\n",
    "# Blocks and Indentation in Python\n",
    "# Comments in Python"
   ]
  },
  {
   "cell_type": "code",
   "execution_count": null,
   "id": "305a5973",
   "metadata": {},
   "outputs": [],
   "source": [
    "# Memory Management in Python\n",
    "    1. Memory Allocation - Raw Memory Allocator, Object Specific Allocator and PVM\n",
    "    2. Memory Deallocation - Garbage collector, Reference count"
   ]
  },
  {
   "cell_type": "code",
   "execution_count": null,
   "id": "85e25a04",
   "metadata": {},
   "outputs": [],
   "source": [
    "# In Python, everything is an object.\n",
    "Integers\n",
    "Floats\n",
    "Complex\n",
    "None\n",
    "Boolean\n",
    "String\n",
    "List\n",
    "Tuple\n",
    "set\n",
    "Frozenset\n",
    "Dictionary\n",
    "Bytes\n",
    "Bytearray\n",
    "Function\n",
    "Iterator\n",
    "Generator\n",
    "Decorators\n",
    "Userdefined objects\n",
    "etc.\n",
    "# Object will always be stored in heap area.\n",
    "# "
   ]
  },
  {
   "cell_type": "code",
   "execution_count": null,
   "id": "ad2fbbb6",
   "metadata": {},
   "outputs": [],
   "source": [
    "# a = 10\n",
    "# b = 10\n",
    "# c = 10\n",
    "# del a, b, c"
   ]
  },
  {
   "cell_type": "code",
   "execution_count": 8,
   "id": "af6460aa",
   "metadata": {
    "ExecuteTime": {
     "end_time": "2021-09-26T03:52:19.744184Z",
     "start_time": "2021-09-26T03:52:13.904564Z"
    }
   },
   "outputs": [
    {
     "name": "stdout",
     "output_type": "stream",
     "text": [
      "Enter 1st number: 100.20\n",
      "Enter 2nd number: 200\n",
      "300.2\n"
     ]
    }
   ],
   "source": [
    "# input and output function in python\n",
    "a = float(input('Enter 1st number: '))\n",
    "b = int(input('Enter 2nd number: '))\n",
    "c = a+b\n",
    "print(c)\n",
    "\n",
    "\n",
    "\n",
    "\n"
   ]
  },
  {
   "cell_type": "code",
   "execution_count": 5,
   "id": "42a0fdaf",
   "metadata": {
    "ExecuteTime": {
     "end_time": "2021-09-26T03:49:34.434697Z",
     "start_time": "2021-09-26T03:49:34.418179Z"
    }
   },
   "outputs": [
    {
     "data": {
      "text/plain": [
       "333"
      ]
     },
     "execution_count": 5,
     "metadata": {},
     "output_type": "execute_result"
    }
   ],
   "source": [
    "# 'Python' + 'Class'\n",
    "# '111' + '222'\n",
    "# 111 + 222"
   ]
  },
  {
   "cell_type": "code",
   "execution_count": 10,
   "id": "0420bed0",
   "metadata": {
    "ExecuteTime": {
     "end_time": "2021-09-26T03:54:50.667366Z",
     "start_time": "2021-09-26T03:54:43.766478Z"
    }
   },
   "outputs": [
    {
     "name": "stdout",
     "output_type": "stream",
     "text": [
      "Enter your first name: 10\n",
      "Enter your last name: 20\n",
      "Enter your age: 90\n",
      "10 20\n",
      "90\n"
     ]
    }
   ],
   "source": [
    "f_name = input('Enter your first name: ')\n",
    "l_name = input('Enter your last name: ')\n",
    "age = int(input('Enter your age: '))\n",
    "print(f_name + ' ' + l_name)\n",
    "print(age)"
   ]
  },
  {
   "cell_type": "code",
   "execution_count": 26,
   "id": "f6d60139",
   "metadata": {
    "ExecuteTime": {
     "end_time": "2021-09-26T04:04:44.323513Z",
     "start_time": "2021-09-26T04:04:42.770540Z"
    }
   },
   "outputs": [
    {
     "name": "stdout",
     "output_type": "stream",
     "text": [
      "Enter 1st number: 10\n",
      "Enter 2nd number: 20\n",
      "The sum of 10.0 and 20 is 30.0\n"
     ]
    }
   ],
   "source": [
    "# output - print\n",
    "# print(10, 20, 30, 40, 50, 60)\n",
    "# print(10, 20, 30, 40, 50, 60, sep = ' ')\n",
    "# print(10, 20, 30, 40, 50, 60, sep = '::')\n",
    "# print(10, 20, 30, 40, 50, 60, sep = ', ')\n",
    "\n",
    "# print('Hello', end = '\\n')\n",
    "# print(10.20, end = '\\n')\n",
    "# print(10+20j, end = '\\n')\n",
    "# print(100, end = '\\n')\n",
    "# print(True, end = '\\n')\n",
    "\n",
    "\n",
    "# print('Learnbay', end = '\\n\\t')\n",
    "# print('Python', end = '\\n\\t\\t')\n",
    "# print('Classes', end = '\\n\\t')\n",
    "# print('Python')\n",
    "# print('Learnbay')\n",
    "\n",
    "a = float(input('Enter 1st number: '))\n",
    "b = int(input('Enter 2nd number: '))\n",
    "c = a+b\n",
    "print(f'The sum of {a} and {b} is {c}')\n",
    "\n",
    "\n",
    "\n",
    "\n"
   ]
  },
  {
   "cell_type": "code",
   "execution_count": null,
   "id": "fc244b6e",
   "metadata": {},
   "outputs": [],
   "source": [
    "# Python Programming Components\n",
    "\n",
    "# Literal\n",
    "# constant\n",
    "# variables\n",
    "# identifiers\n",
    "# Reserved Words\n",
    "# Expression Statements\n",
    "# Blocks and Indentation in Python\n",
    "# Comments in Python"
   ]
  },
  {
   "cell_type": "code",
   "execution_count": 27,
   "id": "1beb0dd5",
   "metadata": {
    "ExecuteTime": {
     "end_time": "2021-09-26T04:09:09.661843Z",
     "start_time": "2021-09-26T04:09:09.654533Z"
    }
   },
   "outputs": [],
   "source": [
    "# Literal - any value in python program\n",
    "# int - 10,-10, 0\n",
    "# float - 10.20, -10.20\n",
    "# Complex - 10+20j, 10-20j\n",
    "# Boolean - True, False\n",
    "# None\n",
    "# String - 'Python', \"Python\", '''Python''', \"\"\"Python\"\"\""
   ]
  },
  {
   "cell_type": "code",
   "execution_count": 49,
   "id": "81194ddb",
   "metadata": {
    "ExecuteTime": {
     "end_time": "2021-09-26T04:19:25.060429Z",
     "start_time": "2021-09-26T04:19:25.051385Z"
    }
   },
   "outputs": [
    {
     "name": "stdout",
     "output_type": "stream",
     "text": [
      "['__abs__', '__add__', '__and__', '__bool__', '__ceil__', '__class__', '__delattr__', '__dir__', '__divmod__', '__doc__', '__eq__', '__float__', '__floor__', '__floordiv__', '__format__', '__ge__', '__getattribute__', '__getnewargs__', '__gt__', '__hash__', '__index__', '__init__', '__init_subclass__', '__int__', '__invert__', '__le__', '__lshift__', '__lt__', '__mod__', '__mul__', '__ne__', '__neg__', '__new__', '__or__', '__pos__', '__pow__', '__radd__', '__rand__', '__rdivmod__', '__reduce__', '__reduce_ex__', '__repr__', '__rfloordiv__', '__rlshift__', '__rmod__', '__rmul__', '__ror__', '__round__', '__rpow__', '__rrshift__', '__rshift__', '__rsub__', '__rtruediv__', '__rxor__', '__setattr__', '__sizeof__', '__str__', '__sub__', '__subclasshook__', '__truediv__', '__trunc__', '__xor__', 'as_integer_ratio', 'bit_length', 'conjugate', 'denominator', 'from_bytes', 'imag', 'numerator', 'real', 'to_bytes']\n",
      "10\n",
      "30\n",
      "20\n"
     ]
    }
   ],
   "source": [
    "# Identifier - Any name used in python programming\n",
    "# Name of constants, variable, function, class, objects etc.\n",
    "\n",
    "# Rules\n",
    "# 1. Allowed charcaters - A-Z, a-z, 0-9, _\n",
    "# 2. Not allowed characters - Special characters\n",
    "# 3. Identifiers should not start with a number. num1(valid), 1num(invalid)\n",
    "# 4. Identifiers are case sensitive. num, Num\n",
    "\n",
    "# Recommendation\n",
    "# 1. Do not use reserved words as your identifier.\n",
    "# 2. Constant name should have only capital case letters.\n",
    "# 3. Class name should follow the CamelCaseNotation.\n",
    "# 4. Avoid writing any name which starts and ends with __.\n",
    "\n",
    "# PI = 3.14\n",
    "# print(PI)\n",
    "# PI = 9\n",
    "# print(PI)\n",
    "\n",
    "# class myfirstclass:\n",
    "#     pass\n",
    "\n",
    "\n",
    "print(dir(int))\n",
    "\n",
    "print(abs(-10))\n",
    "print(10+20)\n",
    "print(10 and 20)\n",
    "\n",
    "\n"
   ]
  },
  {
   "cell_type": "code",
   "execution_count": 33,
   "id": "843e6ffa",
   "metadata": {
    "ExecuteTime": {
     "end_time": "2021-09-26T04:14:10.600367Z",
     "start_time": "2021-09-26T04:14:10.591815Z"
    }
   },
   "outputs": [],
   "source": [
    "# import keyword\n",
    "# print(keyword.kwlist)\n",
    "\n",
    "# ['False', 'None', 'True', 'and', 'as', 'assert', 'async', 'await', 'break', 'class', \n",
    "#  'continue', 'def', 'del', 'elif', 'else', 'except', 'finally', 'for', 'from', 'global', \n",
    "#  'if', 'import', 'in', 'is', 'lambda', 'nonlocal', 'not', 'or', 'pass', 'raise', 'return',\n",
    "#  'try', 'while', 'with', 'yield']\n",
    "\n",
    "# For_example = 100\n",
    "\n",
    "\n"
   ]
  },
  {
   "cell_type": "code",
   "execution_count": 60,
   "id": "5d89960f",
   "metadata": {
    "ExecuteTime": {
     "end_time": "2021-09-26T04:25:41.572735Z",
     "start_time": "2021-09-26T04:25:41.564693Z"
    }
   },
   "outputs": [
    {
     "name": "stdout",
     "output_type": "stream",
     "text": [
      "-10\n"
     ]
    }
   ],
   "source": [
    "# Expressions - Combination of operators, operands, values and variables which gives some result\n",
    "# A literal is a simplest expression\n",
    "# print(10)\n",
    "# print(10+20)\n",
    "# print('Python'*3)\n",
    "# a = 10\n",
    "# b = 20\n",
    "# print(a+b)\n",
    "\n",
    "\n",
    "\n",
    "\n",
    "\n",
    "\n",
    "\n",
    "# Statement - Combination of operators, operands, values and variables which does not give any result\n",
    "a = 10\n",
    "b = 20\n",
    "if a<b:\n",
    "    print(a-b)\n",
    "\n",
    "\n",
    "\n",
    "\n"
   ]
  },
  {
   "cell_type": "code",
   "execution_count": 62,
   "id": "604e5285",
   "metadata": {
    "ExecuteTime": {
     "end_time": "2021-09-26T04:29:52.053738Z",
     "start_time": "2021-09-26T04:29:52.038680Z"
    }
   },
   "outputs": [],
   "source": [
    "# Block and indentation\n",
    "# Where do we need to create the block\n",
    "# if, elif, else, for, while, def, with, class, try, except, else, finally etc.\n",
    "\n",
    "def emp_details():\n",
    "    emp_name = input('Enter employee name: ')\n",
    "    emp_id = input('Enter employee id: ')\n",
    "    emp_sal = input('Enter employee salary: ')\n",
    "    print(emp_name, emp_id, emp_sal)\n",
    "    \n",
    "# emp_details()\n",
    "\n",
    "\n",
    "\n"
   ]
  },
  {
   "cell_type": "code",
   "execution_count": null,
   "id": "be4dd6a0",
   "metadata": {},
   "outputs": [],
   "source": [
    "# Comments "
   ]
  },
  {
   "cell_type": "code",
   "execution_count": 70,
   "id": "1795bb86",
   "metadata": {
    "ExecuteTime": {
     "end_time": "2021-09-26T04:54:06.124379Z",
     "start_time": "2021-09-26T04:54:06.113145Z"
    }
   },
   "outputs": [],
   "source": [
    "# Data Types in Python\n",
    "# 1. Fundamental - int, float, complex, Boolean, String\n",
    "# 2. Derived - List, Tuple, Set, Dictionary, range, frozenset, bytes, bytearray\n",
    "\n",
    "# Integers - Any number without decimal point\n",
    "# 10, -10, 0\n",
    "# Representation of integers\n",
    "# Decimal - 0-9, No prefix required, int()\n",
    "# Binary - 0, 1, 0b, bin(x) - where x can be decimal, binary, octal or hexadecimal value\n",
    "# octal - 0-7, 0o, oct(x) - where x can be decimal, binary, octal or hexadecimal value\n",
    "# hexadecimal - 0-9, a-f, 0x, hex(x) - where x can be decimal, binary, octal or hexadecimal value\n",
    "\n",
    "# dec_num = 98760\n",
    "# print(f'Binary equivalent of {dec_num} is {bin(dec_num)}')\n",
    "# print(f'Octal equivalent of {dec_num} is {oct(dec_num)}')\n",
    "# print(f'Hexadecimal equivalent of {dec_num} is {hex(dec_num)}')\n",
    "\n",
    "# print(0b11000000111001000)\n",
    "# print(0o300710)\n",
    "# print('0x181c8')\n",
    "\n",
    "# bin('98760')\n",
    "\n"
   ]
  },
  {
   "cell_type": "code",
   "execution_count": null,
   "id": "943f13bc",
   "metadata": {},
   "outputs": [],
   "source": [
    "# Float - Any number with decimal point\n",
    "# 10.20, -10.20, 0.001\n",
    "# Floats can be written in decimal format only\n",
    "\n",
    "\n",
    "\n"
   ]
  },
  {
   "cell_type": "code",
   "execution_count": 74,
   "id": "46e66d08",
   "metadata": {
    "ExecuteTime": {
     "end_time": "2021-09-26T04:57:14.115844Z",
     "start_time": "2021-09-26T04:57:14.110524Z"
    }
   },
   "outputs": [
    {
     "name": "stdout",
     "output_type": "stream",
     "text": [
      "28\n",
      "56\n"
     ]
    }
   ],
   "source": [
    "# Complex - a+bj\n",
    "# Where a is real and b is imaginary part\n",
    "\n",
    "# num = 10+20j\n",
    "# print(num.real)\n",
    "# print(num.imag)\n",
    "\n",
    "import sys\n",
    "num = 10\n",
    "print(sys.getsizeof(num))\n",
    "num = 10925876369563721569723659872346958726385623875681937658436298342\n",
    "print(sys.getsizeof(num))\n"
   ]
  },
  {
   "cell_type": "code",
   "execution_count": 88,
   "id": "8c13d204",
   "metadata": {
    "ExecuteTime": {
     "end_time": "2021-09-26T05:02:49.933651Z",
     "start_time": "2021-09-26T05:02:48.668976Z"
    }
   },
   "outputs": [
    {
     "name": "stdout",
     "output_type": "stream",
     "text": [
      "Enter a number: 10\n",
      "10\n"
     ]
    }
   ],
   "source": [
    "# int(x)\n",
    "\n",
    "# print(int(10))\n",
    "# print(int(10.20))\n",
    "# print(int('10'))\n",
    "# print(int(True))\n",
    "# print(int(0b10101))\n",
    "# print(int(0o7654))\n",
    "# print(int(0xfc98))\n",
    "\n",
    "# print(int('10.20'))\n",
    "# print(int(10+20j))\n",
    "# print(int('0b10101'))\n",
    "# print(int('True'))\n",
    "\n",
    "num = int(input('Enter a number: '))\n",
    "print(num)\n"
   ]
  },
  {
   "cell_type": "code",
   "execution_count": 89,
   "id": "bfa9fdaa",
   "metadata": {
    "ExecuteTime": {
     "end_time": "2021-09-26T05:03:32.006182Z",
     "start_time": "2021-09-26T05:03:31.992697Z"
    }
   },
   "outputs": [
    {
     "name": "stdout",
     "output_type": "stream",
     "text": [
      "10.2\n"
     ]
    }
   ],
   "source": [
    "# float()\n",
    "# print(float(10))\n",
    "# print(float(10.20))\n",
    "# print(float('10.20'))\n",
    "# print(float('10'))\n",
    "# print(float(True))\n",
    "# print(float(0b10101))\n",
    "# print(float(0o7654))\n",
    "# print(float(0xfc98))\n",
    "\n",
    "# print(float(10+20j))\n",
    "# print(float('0b10101'))\n",
    "# print(float('True'))\n"
   ]
  },
  {
   "cell_type": "code",
   "execution_count": 96,
   "id": "fb26869e",
   "metadata": {
    "ExecuteTime": {
     "end_time": "2021-09-26T05:09:21.882272Z",
     "start_time": "2021-09-26T05:09:21.877224Z"
    }
   },
   "outputs": [],
   "source": [
    "# complex(real) - real+0j\n",
    "# complex(real, imag) - real+imag*j\n",
    "\n",
    "# Note - if first arg is a string then it won't accept the 2nd arg\n",
    "# Note - 2nd argument can never be a string value\n",
    "\n",
    "# print(complex(10))\n",
    "# print(complex(10.20))\n",
    "# print(complex(True))\n",
    "# print(complex(0b10101))\n",
    "# print(complex('10'))\n",
    "\n",
    "# print(complex('10', 20))\n",
    "# print(complex(10, '20'))\n",
    "\n",
    "\n",
    "# print(complex(10, 20))\n",
    "\n",
    "\n",
    "\n"
   ]
  },
  {
   "cell_type": "code",
   "execution_count": 109,
   "id": "b98d2a2a",
   "metadata": {
    "ExecuteTime": {
     "end_time": "2021-09-26T05:13:21.251220Z",
     "start_time": "2021-09-26T05:13:21.241703Z"
    }
   },
   "outputs": [],
   "source": [
    "# Boolean - True, False\n",
    "# True => 1\n",
    "# False = 0\n",
    "\n",
    "# Int to boolean - 0 is always False and rest all True\n",
    "# Float to boolean - 0.0 is always False and rest all True\n",
    "# Complex to boolean - 0.0+0.0j is always False and rest all True\n",
    "# None is always False\n",
    "# string to boolean - '' is always False and rest all True\n",
    "# list, tuple, dict - [], (), {} - False rest all True\n",
    "\n",
    "# print(bool(0.00001))\n",
    "# print(bool(0.0000j))\n",
    "# print(bool([]))\n",
    "# print(bool([None]))\n",
    "# print(bool(None))\n",
    "# print(bool({}))\n",
    "# print(bool(''))\n",
    "# print(bool(' '))\n",
    "\n",
    "\n",
    "\n",
    "\n",
    "\n"
   ]
  },
  {
   "cell_type": "code",
   "execution_count": 114,
   "id": "f35f5e7c",
   "metadata": {
    "ExecuteTime": {
     "end_time": "2021-09-26T05:17:25.698644Z",
     "start_time": "2021-09-26T05:17:25.692211Z"
    }
   },
   "outputs": [],
   "source": [
    "# Operators - \n",
    "# 1. Arithmetic - +, -, *, /(Float), //(Floor), **(Exponent), %(Modulo)\n",
    "\n",
    "# num1 = 100\n",
    "# num2 = 3\n",
    "# print(num1/num2)    # Float value\n",
    "# print(num1//num2)   # Floor value of float division\n",
    "# print(num1**num2)\n",
    "# print(num1%num2)    # Remainder\n",
    "\n",
    "\n",
    "# Ceil - Highest nearest whole number - 10\n",
    "# num = 9.0009\n",
    "# Floor - Lowest nearest whole number - 9\n",
    "\n",
    "\n",
    "\n"
   ]
  },
  {
   "cell_type": "code",
   "execution_count": 124,
   "id": "31d3c96e",
   "metadata": {
    "ExecuteTime": {
     "end_time": "2021-09-26T05:21:15.497031Z",
     "start_time": "2021-09-26T05:21:15.480262Z"
    }
   },
   "outputs": [
    {
     "name": "stdout",
     "output_type": "stream",
     "text": [
      "False\n"
     ]
    }
   ],
   "source": [
    "# Comparison - <, <=, >, >=\n",
    "# Returns Boolean value \n",
    "# Works only with similar data types except int and float\n",
    "\n",
    "# print(10<20)\n",
    "# print(10>20.20)\n",
    "# print(10<=10)\n",
    "\n",
    "# print('A'<=65)\n",
    "\n",
    "print('abc'<'abC')\n",
    "\n",
    "# print(10+20j<20+30j)\n",
    "\n",
    "\n"
   ]
  },
  {
   "cell_type": "code",
   "execution_count": 136,
   "id": "c1ec8ea2",
   "metadata": {
    "ExecuteTime": {
     "end_time": "2021-09-26T05:25:20.152313Z",
     "start_time": "2021-09-26T05:25:20.149261Z"
    }
   },
   "outputs": [],
   "source": [
    "# Equality Operator - ==, !=\n",
    "# These operators also returns Boolean values\n",
    "# It compares the content and type both excpet for int and float\n",
    "\n",
    "# print(10 == 10.0)\n",
    "# print(10 == '10')\n",
    "# print(ord('A') == 65)\n",
    "\n",
    "\n",
    "# ord('A')\n",
    "# chr(65)\n",
    "\n",
    "# print('ABC' == 'ABc')\n",
    "\n",
    "\n"
   ]
  },
  {
   "cell_type": "code",
   "execution_count": 147,
   "id": "b0086c46",
   "metadata": {
    "ExecuteTime": {
     "end_time": "2021-09-26T05:34:44.148223Z",
     "start_time": "2021-09-26T05:34:40.745528Z"
    }
   },
   "outputs": [
    {
     "ename": "KeyboardInterrupt",
     "evalue": "Interrupted by user",
     "output_type": "error",
     "traceback": [
      "\u001b[0;31m---------------------------------------------------------------------------\u001b[0m",
      "\u001b[0;31mKeyboardInterrupt\u001b[0m                         Traceback (most recent call last)",
      "\u001b[0;32m<ipython-input-147-8892ed03c6e3>\u001b[0m in \u001b[0;36m<module>\u001b[0;34m\u001b[0m\n\u001b[1;32m     31\u001b[0m \u001b[0;34m\u001b[0m\u001b[0m\n\u001b[1;32m     32\u001b[0m \u001b[0;34m\u001b[0m\u001b[0m\n\u001b[0;32m---> 33\u001b[0;31m \u001b[0myear\u001b[0m \u001b[0;34m=\u001b[0m \u001b[0mint\u001b[0m\u001b[0;34m(\u001b[0m\u001b[0minput\u001b[0m\u001b[0;34m(\u001b[0m\u001b[0;34m'Enter an year: '\u001b[0m\u001b[0;34m)\u001b[0m\u001b[0;34m)\u001b[0m\u001b[0;34m\u001b[0m\u001b[0;34m\u001b[0m\u001b[0m\n\u001b[0m\u001b[1;32m     34\u001b[0m \u001b[0;32mif\u001b[0m \u001b[0;34m(\u001b[0m\u001b[0;34m(\u001b[0m\u001b[0myear\u001b[0m\u001b[0;34m%\u001b[0m\u001b[0;36m400\u001b[0m \u001b[0;34m==\u001b[0m \u001b[0;36m0\u001b[0m\u001b[0;34m)\u001b[0m \u001b[0;32mor\u001b[0m \u001b[0;34m(\u001b[0m\u001b[0;34m(\u001b[0m\u001b[0myear\u001b[0m\u001b[0;34m%\u001b[0m\u001b[0;36m4\u001b[0m \u001b[0;34m==\u001b[0m \u001b[0;36m0\u001b[0m\u001b[0;34m)\u001b[0m \u001b[0;32mand\u001b[0m \u001b[0;34m(\u001b[0m\u001b[0myear\u001b[0m\u001b[0;34m%\u001b[0m\u001b[0;36m100\u001b[0m \u001b[0;34m!=\u001b[0m \u001b[0;36m0\u001b[0m\u001b[0;34m)\u001b[0m\u001b[0;34m)\u001b[0m\u001b[0;34m)\u001b[0m\u001b[0;34m:\u001b[0m\u001b[0;34m\u001b[0m\u001b[0;34m\u001b[0m\u001b[0m\n\u001b[1;32m     35\u001b[0m     \u001b[0mprint\u001b[0m\u001b[0;34m(\u001b[0m\u001b[0;34m'Leap Year'\u001b[0m\u001b[0;34m)\u001b[0m\u001b[0;34m\u001b[0m\u001b[0;34m\u001b[0m\u001b[0m\n",
      "\u001b[0;32m/Library/Frameworks/Python.framework/Versions/3.8/lib/python3.8/site-packages/ipykernel/kernelbase.py\u001b[0m in \u001b[0;36mraw_input\u001b[0;34m(self, prompt)\u001b[0m\n\u001b[1;32m    846\u001b[0m                 \u001b[0;34m\"raw_input was called, but this frontend does not support input requests.\"\u001b[0m\u001b[0;34m\u001b[0m\u001b[0;34m\u001b[0m\u001b[0m\n\u001b[1;32m    847\u001b[0m             )\n\u001b[0;32m--> 848\u001b[0;31m         return self._input_request(str(prompt),\n\u001b[0m\u001b[1;32m    849\u001b[0m             \u001b[0mself\u001b[0m\u001b[0;34m.\u001b[0m\u001b[0m_parent_ident\u001b[0m\u001b[0;34m,\u001b[0m\u001b[0;34m\u001b[0m\u001b[0;34m\u001b[0m\u001b[0m\n\u001b[1;32m    850\u001b[0m             \u001b[0mself\u001b[0m\u001b[0;34m.\u001b[0m\u001b[0m_parent_header\u001b[0m\u001b[0;34m,\u001b[0m\u001b[0;34m\u001b[0m\u001b[0;34m\u001b[0m\u001b[0m\n",
      "\u001b[0;32m/Library/Frameworks/Python.framework/Versions/3.8/lib/python3.8/site-packages/ipykernel/kernelbase.py\u001b[0m in \u001b[0;36m_input_request\u001b[0;34m(self, prompt, ident, parent, password)\u001b[0m\n\u001b[1;32m    890\u001b[0m             \u001b[0;32mexcept\u001b[0m \u001b[0mKeyboardInterrupt\u001b[0m\u001b[0;34m:\u001b[0m\u001b[0;34m\u001b[0m\u001b[0;34m\u001b[0m\u001b[0m\n\u001b[1;32m    891\u001b[0m                 \u001b[0;31m# re-raise KeyboardInterrupt, to truncate traceback\u001b[0m\u001b[0;34m\u001b[0m\u001b[0;34m\u001b[0m\u001b[0;34m\u001b[0m\u001b[0m\n\u001b[0;32m--> 892\u001b[0;31m                 \u001b[0;32mraise\u001b[0m \u001b[0mKeyboardInterrupt\u001b[0m\u001b[0;34m(\u001b[0m\u001b[0;34m\"Interrupted by user\"\u001b[0m\u001b[0;34m)\u001b[0m \u001b[0;32mfrom\u001b[0m \u001b[0;32mNone\u001b[0m\u001b[0;34m\u001b[0m\u001b[0;34m\u001b[0m\u001b[0m\n\u001b[0m\u001b[1;32m    893\u001b[0m             \u001b[0;32mexcept\u001b[0m \u001b[0mException\u001b[0m \u001b[0;32mas\u001b[0m \u001b[0me\u001b[0m\u001b[0;34m:\u001b[0m\u001b[0;34m\u001b[0m\u001b[0;34m\u001b[0m\u001b[0m\n\u001b[1;32m    894\u001b[0m                 \u001b[0mself\u001b[0m\u001b[0;34m.\u001b[0m\u001b[0mlog\u001b[0m\u001b[0;34m.\u001b[0m\u001b[0mwarning\u001b[0m\u001b[0;34m(\u001b[0m\u001b[0;34m\"Invalid Message:\"\u001b[0m\u001b[0;34m,\u001b[0m \u001b[0mexc_info\u001b[0m\u001b[0;34m=\u001b[0m\u001b[0;32mTrue\u001b[0m\u001b[0;34m)\u001b[0m\u001b[0;34m\u001b[0m\u001b[0;34m\u001b[0m\u001b[0m\n",
      "\u001b[0;31mKeyboardInterrupt\u001b[0m: Interrupted by user"
     ]
    }
   ],
   "source": [
    "# Logical Operator - and, or, not\n",
    "# Works with logic - True False\n",
    "\n",
    "# and Truth Table - False\n",
    "# True and True = True\n",
    "# True and False = False\n",
    "# False and True = False\n",
    "# False and False = False\n",
    "\n",
    "# or Truth Table - True\n",
    "# True or True = True\n",
    "# True or False = True\n",
    "# False or True = True\n",
    "# False or False = False\n",
    "\n",
    "# not True = False\n",
    "# not False = True\n",
    "\n",
    "\n",
    "# A and B -> result is A if A is False else result is B\n",
    "# print(10 and 20)\n",
    "# print(0 and 20)\n",
    "# print(20 and 0)\n",
    "# print(0.0 and 0)\n",
    "\n",
    "# A or B -> result is A if A is True else result is B\n",
    "# print(10 or 20)\n",
    "# print(10 or 0)\n",
    "# print(0 or 20)\n",
    "# print(0.0 or 0)\n",
    "\n",
    "\n",
    "year = int(input('Enter an year: '))\n",
    "if ((year%400 == 0) or ((year%4 == 0) and (year%100 != 0))):\n",
    "    print('Leap Year')\n",
    "else:\n",
    "    print('Not a leap Year')\n",
    "\n",
    "# year = 1800 => False or (True and False) => False or False => False => Not a leap Year\n",
    "# year = 1600 => True or (True and False) => True or False => True => Not a leap Year\n",
    "\n"
   ]
  },
  {
   "cell_type": "code",
   "execution_count": null,
   "id": "f0ac127c",
   "metadata": {},
   "outputs": [],
   "source": [
    "age = int(input('Enter your age: '))\n",
    "if age > 40:\n",
    "    print(age)\n",
    "    \n",
    "and \n"
   ]
  },
  {
   "cell_type": "code",
   "execution_count": 172,
   "id": "5afa05c8",
   "metadata": {
    "ExecuteTime": {
     "end_time": "2021-09-26T05:50:20.370608Z",
     "start_time": "2021-09-26T05:50:20.365254Z"
    }
   },
   "outputs": [],
   "source": [
    "# Bitwise Operator - &, |, ^, ~, <<, >>\n",
    "# Works only with bits - binary values\n",
    "# Works only with integers\n",
    "\n",
    "# & Truth Table\n",
    "# 1 & 1 = 1\n",
    "# 1 & 0 = 0\n",
    "# 0 & 1 = 0\n",
    "# 0 & 0 = 0\n",
    "\n",
    "\n",
    "# | Truth Table\n",
    "# 1 | 1 = 1\n",
    "# 1 | 0 = 1\n",
    "# 0 | 1 = 1\n",
    "# 0 | 0 = 0\n",
    "\n",
    "\n",
    "# ^ Truth Table\n",
    "# 1 ^ 1 = 0\n",
    "# 1 ^ 0 = 1\n",
    "# 0 ^ 1 = 1\n",
    "# 0 ^ 0 = 0\n",
    "\n",
    "# print(37 ^ 59)\n",
    "\n",
    "# print(bin(59))\n",
    "\n",
    "# 37 => 100101\n",
    "# 59 => 111011\n",
    "# =============\n",
    "# &  => 100001\n",
    "# |  => 111111\n",
    "# ^  => 011110\n",
    "\n",
    "\n",
    "# print(0b100001)\n",
    "# print(0b111111)\n",
    "# print(0b11110)\n",
    "\n",
    "\n",
    "# Bitwise Negation\n",
    "# ~num = -(num+1)\n",
    "# print(~9)\n",
    "# print(~-8)\n",
    "# print(~True)\n",
    "\n",
    "# Bitwise left shift - <<\n",
    "# num << no of bits  => (num * (2**no of bits))\n",
    "\n",
    "# print(67<<5)\n",
    "# print(67*(2**5))\n",
    "\n",
    "# Step1 - find the binary equivalent of the number and represent it in 32 bit format\n",
    "# print(bin(67))\n",
    "\n",
    "\n",
    "# 67 => 00000000000000000000000001000011\n",
    "\n",
    "# Step 2 - Remove specified no of bots from left side and add same no of bits(0) on right side\n",
    "\n",
    "# 67 => 00000000000000000000100001100000\n",
    "\n",
    "# Step 3 - find decimal equivalent\n",
    "# print(0b100001100000)\n",
    "\n",
    "\n",
    "\n",
    "# Bitwise right shift - >>\n",
    "# num >> no of bits  => (num // (2**no of bits))\n",
    "\n",
    "# print(67>>5)\n",
    "# print(67//(2**5))\n",
    "\n",
    "# Step1 - find the binary equivalent of the number and represent it in 32 bit format\n",
    "# print(bin(67))\n",
    "\n",
    "\n",
    "# 67 => 00000000000000000000000001000011\n",
    "\n",
    "# Step 2 - Remove specified no of bits from right side and add same no of bits(0) on left side\n",
    "\n",
    "# 67 => 00000000000000000000000000000010\n",
    "\n",
    "# Step 3 - find decimal equivalent\n",
    "# print(0b10)\n"
   ]
  },
  {
   "cell_type": "code",
   "execution_count": null,
   "id": "cd326817",
   "metadata": {},
   "outputs": [],
   "source": [
    "# Assignment  -> =\n",
    "\n",
    "a = 10"
   ]
  },
  {
   "cell_type": "code",
   "execution_count": 173,
   "id": "f541a9e3",
   "metadata": {
    "ExecuteTime": {
     "end_time": "2021-09-26T05:52:51.660966Z",
     "start_time": "2021-09-26T05:52:51.656647Z"
    }
   },
   "outputs": [
    {
     "name": "stdout",
     "output_type": "stream",
     "text": [
      "12\n"
     ]
    }
   ],
   "source": [
    "# Compound Assignment Operator - +=, -=, *=, /=, //=, **=, %=, &=, |=, ^=, ~=, <<=, >>=\n",
    "\n",
    "num = 10\n",
    "num &= 2                                      # num = num & 2 \n",
    "print(num)\n",
    "\n",
    "\n",
    "\n",
    "\n"
   ]
  },
  {
   "cell_type": "code",
   "execution_count": 182,
   "id": "c858dad9",
   "metadata": {
    "ExecuteTime": {
     "end_time": "2021-09-26T05:56:06.995507Z",
     "start_time": "2021-09-26T05:56:06.983935Z"
    }
   },
   "outputs": [
    {
     "name": "stdout",
     "output_type": "stream",
     "text": [
      "True\n",
      "False\n"
     ]
    }
   ],
   "source": [
    "# Membership operator - in, not in\n",
    "# Returns Boolean Value\n",
    "# Used with Iterables - string, list, tuple, set, fset, dict, byte, bytearray, range\n",
    "\n",
    "# print('P' in 'Python')\n",
    "# print('n' in 'Python')\n",
    "# print('N' in 'Python')\n",
    "# print('Py' in 'Python')\n",
    "# print('Pn' in 'Python')\n",
    "\n",
    "\n",
    "# print(10 in [10,20,30,40])\n",
    "# print(1 in [10,20,30,40])\n",
    "\n",
    "\n",
    "print(1 in {1:100, 2:200, 3:300, 4:40})\n",
    "print(100 in {1:100, 2:200, 3:300, 4:40})\n",
    "\n",
    "\n",
    "\n",
    "\n",
    "\n",
    "\n",
    "\n",
    "\n"
   ]
  },
  {
   "cell_type": "code",
   "execution_count": 186,
   "id": "f735e93d",
   "metadata": {
    "ExecuteTime": {
     "end_time": "2021-09-26T05:58:05.114739Z",
     "start_time": "2021-09-26T05:58:05.104765Z"
    }
   },
   "outputs": [
    {
     "name": "stdout",
     "output_type": "stream",
     "text": [
      "False\n",
      "4414592880\n",
      "4414594512\n"
     ]
    }
   ],
   "source": [
    "# Identity Operator - is, is not\n",
    "# Boolean value\n",
    "# Check memory address\n",
    "\n",
    "# a = 10\n",
    "# b = 10\n",
    "# print(id(a))\n",
    "# print(id(b))\n",
    "# print(a is b)\n",
    "\n",
    "# a = 'Python'\n",
    "# b = 'Python'\n",
    "# print(id(a))\n",
    "# print(id(b))\n",
    "# print(a is b)\n",
    "\n",
    "# a = 1000\n",
    "# b = 1000\n",
    "# print(a is b)\n",
    "# print(id(a))\n",
    "# print(id(b))\n",
    "\n",
    "# Integer caching\n",
    "# String Interning\n",
    "# Object Reusability in Python\n",
    "\n",
    "\n"
   ]
  },
  {
   "cell_type": "code",
   "execution_count": 190,
   "id": "35deb6c4",
   "metadata": {
    "ExecuteTime": {
     "end_time": "2021-09-26T06:02:48.178353Z",
     "start_time": "2021-09-26T06:02:48.170985Z"
    }
   },
   "outputs": [
    {
     "name": "stdout",
     "output_type": "stream",
     "text": [
      "900\n"
     ]
    }
   ],
   "source": [
    "# Ternary Operator - \n",
    "\n",
    "# expr1 if cond else expr2\n",
    "# expr1 if cond1 else expr2 if cond2 else expr3 if cond3 else expr4\n",
    "\n",
    "\n",
    "num1 = 100\n",
    "num2 = 20\n",
    "num3 = 900\n",
    "print(num1 if (num1>num2) and (num1>num3) else num2 if (num2>num3) else num3)\n",
    "\n"
   ]
  },
  {
   "cell_type": "code",
   "execution_count": null,
   "id": "56e3e786",
   "metadata": {},
   "outputs": [],
   "source": [
    "\n",
    "# operator Precedence\n",
    "# Operators                                     \tMeaning\n",
    "# ()      \tParentheses\n",
    "# **      \tExponent\n",
    "# +x, -x, ~x\tUnary plus, Unary minus, Bitwise NOT\n",
    "# *, /, //, %\tMultiplication, Division, Floor division, Modulus\n",
    "# +, -    \tAddition, Subtraction\n",
    "# <<, >>  \tBitwise shift operators\n",
    "# &       \tBitwise AND\n",
    "# ^       \tBitwise XOR\n",
    "# |       \tBitwise OR\n",
    "# ==, !=, >, >=, <, <=, is, is not, in, not in  \tComparisons, Identity, Membership operators\n",
    "# not     \tLogical NOT\n",
    "# and     \tLogical AND\n",
    "# or      \tLogical OR\n"
   ]
  },
  {
   "cell_type": "code",
   "execution_count": null,
   "id": "a4846967",
   "metadata": {},
   "outputs": [],
   "source": []
  },
  {
   "cell_type": "code",
   "execution_count": null,
   "id": "7a0d1944",
   "metadata": {},
   "outputs": [],
   "source": []
  },
  {
   "cell_type": "code",
   "execution_count": null,
   "id": "770bb477",
   "metadata": {},
   "outputs": [],
   "source": []
  },
  {
   "cell_type": "code",
   "execution_count": null,
   "id": "d456396c",
   "metadata": {},
   "outputs": [],
   "source": []
  },
  {
   "cell_type": "code",
   "execution_count": null,
   "id": "33e38853",
   "metadata": {},
   "outputs": [],
   "source": []
  },
  {
   "cell_type": "code",
   "execution_count": null,
   "id": "1b4d6141",
   "metadata": {},
   "outputs": [],
   "source": []
  },
  {
   "cell_type": "code",
   "execution_count": null,
   "id": "0dd35501",
   "metadata": {},
   "outputs": [],
   "source": []
  },
  {
   "cell_type": "code",
   "execution_count": null,
   "id": "0fce84b5",
   "metadata": {},
   "outputs": [],
   "source": []
  },
  {
   "cell_type": "code",
   "execution_count": null,
   "id": "e9cb059b",
   "metadata": {},
   "outputs": [],
   "source": []
  },
  {
   "cell_type": "code",
   "execution_count": null,
   "id": "8fdc7bbe",
   "metadata": {},
   "outputs": [],
   "source": []
  },
  {
   "cell_type": "code",
   "execution_count": null,
   "id": "77ab280d",
   "metadata": {},
   "outputs": [],
   "source": []
  },
  {
   "cell_type": "code",
   "execution_count": null,
   "id": "deba1f03",
   "metadata": {},
   "outputs": [],
   "source": []
  },
  {
   "cell_type": "code",
   "execution_count": null,
   "id": "4aa8a876",
   "metadata": {},
   "outputs": [],
   "source": []
  },
  {
   "cell_type": "code",
   "execution_count": null,
   "id": "2c821617",
   "metadata": {},
   "outputs": [],
   "source": []
  },
  {
   "cell_type": "code",
   "execution_count": null,
   "id": "12eb08a6",
   "metadata": {},
   "outputs": [],
   "source": []
  },
  {
   "cell_type": "code",
   "execution_count": null,
   "id": "ffcf28ff",
   "metadata": {},
   "outputs": [],
   "source": []
  },
  {
   "cell_type": "code",
   "execution_count": null,
   "id": "1d5535e0",
   "metadata": {},
   "outputs": [],
   "source": []
  },
  {
   "cell_type": "code",
   "execution_count": null,
   "id": "6f47d180",
   "metadata": {},
   "outputs": [],
   "source": []
  },
  {
   "cell_type": "code",
   "execution_count": null,
   "id": "1dbf4a7d",
   "metadata": {},
   "outputs": [],
   "source": []
  },
  {
   "cell_type": "code",
   "execution_count": null,
   "id": "4aaaa478",
   "metadata": {},
   "outputs": [],
   "source": []
  },
  {
   "cell_type": "code",
   "execution_count": null,
   "id": "abf81b00",
   "metadata": {},
   "outputs": [],
   "source": []
  },
  {
   "cell_type": "code",
   "execution_count": null,
   "id": "474c817b",
   "metadata": {},
   "outputs": [],
   "source": []
  },
  {
   "cell_type": "code",
   "execution_count": null,
   "id": "650597d0",
   "metadata": {},
   "outputs": [],
   "source": []
  },
  {
   "cell_type": "code",
   "execution_count": null,
   "id": "3b1fe6ee",
   "metadata": {},
   "outputs": [],
   "source": []
  },
  {
   "cell_type": "code",
   "execution_count": null,
   "id": "55bea75b",
   "metadata": {},
   "outputs": [],
   "source": []
  },
  {
   "cell_type": "code",
   "execution_count": null,
   "id": "a874e3cf",
   "metadata": {},
   "outputs": [],
   "source": []
  },
  {
   "cell_type": "code",
   "execution_count": null,
   "id": "116e309f",
   "metadata": {},
   "outputs": [],
   "source": []
  },
  {
   "cell_type": "code",
   "execution_count": null,
   "id": "654ba587",
   "metadata": {},
   "outputs": [],
   "source": []
  },
  {
   "cell_type": "code",
   "execution_count": null,
   "id": "62b4c5e1",
   "metadata": {},
   "outputs": [],
   "source": []
  },
  {
   "cell_type": "code",
   "execution_count": null,
   "id": "371cb116",
   "metadata": {},
   "outputs": [],
   "source": []
  },
  {
   "cell_type": "code",
   "execution_count": null,
   "id": "6ad525f1",
   "metadata": {},
   "outputs": [],
   "source": []
  },
  {
   "cell_type": "code",
   "execution_count": null,
   "id": "72c1736d",
   "metadata": {},
   "outputs": [],
   "source": []
  },
  {
   "cell_type": "code",
   "execution_count": null,
   "id": "216d6a62",
   "metadata": {},
   "outputs": [],
   "source": []
  },
  {
   "cell_type": "code",
   "execution_count": null,
   "id": "15c8aac8",
   "metadata": {},
   "outputs": [],
   "source": []
  },
  {
   "cell_type": "code",
   "execution_count": null,
   "id": "f25c033e",
   "metadata": {},
   "outputs": [],
   "source": []
  },
  {
   "cell_type": "code",
   "execution_count": null,
   "id": "757a2931",
   "metadata": {},
   "outputs": [],
   "source": []
  },
  {
   "cell_type": "code",
   "execution_count": null,
   "id": "616b9104",
   "metadata": {},
   "outputs": [],
   "source": []
  },
  {
   "cell_type": "code",
   "execution_count": null,
   "id": "00b6333a",
   "metadata": {},
   "outputs": [],
   "source": []
  },
  {
   "cell_type": "code",
   "execution_count": null,
   "id": "c63358e6",
   "metadata": {},
   "outputs": [],
   "source": []
  },
  {
   "cell_type": "code",
   "execution_count": null,
   "id": "b1987009",
   "metadata": {},
   "outputs": [],
   "source": []
  },
  {
   "cell_type": "code",
   "execution_count": null,
   "id": "598e51ef",
   "metadata": {},
   "outputs": [],
   "source": []
  },
  {
   "cell_type": "code",
   "execution_count": null,
   "id": "6cbb82c6",
   "metadata": {},
   "outputs": [],
   "source": []
  },
  {
   "cell_type": "code",
   "execution_count": null,
   "id": "6aececfa",
   "metadata": {},
   "outputs": [],
   "source": []
  },
  {
   "cell_type": "code",
   "execution_count": null,
   "id": "d40a2012",
   "metadata": {},
   "outputs": [],
   "source": []
  },
  {
   "cell_type": "code",
   "execution_count": null,
   "id": "2932b275",
   "metadata": {},
   "outputs": [],
   "source": []
  },
  {
   "cell_type": "code",
   "execution_count": null,
   "id": "638f76b9",
   "metadata": {},
   "outputs": [],
   "source": []
  },
  {
   "cell_type": "code",
   "execution_count": null,
   "id": "cb2aa3ba",
   "metadata": {},
   "outputs": [],
   "source": []
  },
  {
   "cell_type": "code",
   "execution_count": null,
   "id": "ee533b02",
   "metadata": {},
   "outputs": [],
   "source": []
  },
  {
   "cell_type": "code",
   "execution_count": null,
   "id": "e428d94c",
   "metadata": {},
   "outputs": [],
   "source": []
  }
 ],
 "metadata": {
  "kernelspec": {
   "display_name": "Python 3",
   "language": "python",
   "name": "python3"
  },
  "language_info": {
   "codemirror_mode": {
    "name": "ipython",
    "version": 3
   },
   "file_extension": ".py",
   "mimetype": "text/x-python",
   "name": "python",
   "nbconvert_exporter": "python",
   "pygments_lexer": "ipython3",
   "version": "3.8.8"
  }
 },
 "nbformat": 4,
 "nbformat_minor": 5
}
