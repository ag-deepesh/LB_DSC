{
 "cells": [
  {
   "cell_type": "code",
   "execution_count": 7,
   "id": "bfb57a66",
   "metadata": {},
   "outputs": [
    {
     "name": "stdout",
     "output_type": "stream",
     "text": [
      "value of a is 20.0\n",
      "type of a is <class 'float'>\n",
      "id of a is 140202701715856\n"
     ]
    }
   ],
   "source": [
    "# Q. ​ Declare a float value and store it in a variable.\n",
    "# Check the type and print the id of the same.\n",
    "a = float(20)\n",
    "print(f'value of a is {a}\\ntype of a is {type(a)}')\n",
    "print(f'id of a is {id(a)}')"
   ]
  },
  {
   "cell_type": "code",
   "execution_count": 11,
   "id": "484ae328",
   "metadata": {},
   "outputs": [
    {
     "name": "stdout",
     "output_type": "stream",
     "text": [
      "sum of 201.0 and 11.0 is 212.0\n",
      "difference between 201.0 and 11.0 is 190.0\n",
      "product of 201.0 and 11.0 is 2211.0\n",
      "float division of 201.0 with 11.0 is 18.273 upto 3 decimal places\n",
      "remainder after float division of 201.0 with 11.0 is 3.0\n",
      "quotient after division of 201.0 with 11.0 is 18.0\n",
      "value of 201.0 raised to 11.0 is 2.163498665371637e+25\n"
     ]
    }
   ],
   "source": [
    "# Q.​ ​ Arithmetic Operations on float\n",
    "# Take two different float values.\n",
    "# Store them in two different variables.\n",
    "# Do below operations on them:-\n",
    "# Find sum of both numbers\n",
    "# Find difference between them\n",
    "# Find the product of both numbers.\n",
    "# Find value after dividing first num with second number\n",
    "# Find the remainder after dividing first number with second number\n",
    "# Find the quotient after dividing first number with second number\n",
    "# Find the result of the first num to the power of the second number.\n",
    "x = float(201); y = float(11)\n",
    "print(f'sum of {x} and {y} is {x+y}')\n",
    "print(f'difference between {x} and {y} is {x-y}')\n",
    "print(f'product of {x} and {y} is {x*y}')\n",
    "print(f'float division of {x} with {y} is {(x/y):.3f} upto 3 decimal places')\n",
    "print(f'remainder after float division of {x} with {y} is {x%y}')\n",
    "print(f'quotient after division of {x} with {y} is {x//y}')\n",
    "print(f'value of {x} raised to {y} is {x**y}')\n"
   ]
  },
  {
   "cell_type": "code",
   "execution_count": 13,
   "id": "2dfc3fc3",
   "metadata": {},
   "outputs": [
    {
     "name": "stdout",
     "output_type": "stream",
     "text": [
      "p = 51.0; q = 22.0\n",
      "51.0 > 22.0 is True\n",
      "51.0 < 22.0 is False\n",
      "51.0 >= 22.0 is True\n",
      "51.0 <= 22.0 is False\n"
     ]
    }
   ],
   "source": [
    "# Q.​ Comparison Operators on float\n",
    "# Take two different float values.\n",
    "# Store them in two different variables.\n",
    "# Do below operations on them:-\n",
    "# Compare these two numbers with below operator:-\n",
    "# Greater than, '>'\n",
    "# Smaller than, '<'\n",
    "# Greater than or equal to, '>='\n",
    "# Less than or equal to, '<='\n",
    "# Observe their output(return type should be boolean)\n",
    "p = float(51); q = float(0b10110)\n",
    "print(f'p = {p}; q = {q}')\n",
    "print(f'{p} > {q} is {p>q}')\n",
    "print(f'{p} < {q} is {p<q}')\n",
    "print(f'{p} >= {q} is {p>=q}')\n",
    "print(f'{p} <= {q} is {p<=q}')\n"
   ]
  },
  {
   "cell_type": "code",
   "execution_count": 14,
   "id": "375ad453",
   "metadata": {},
   "outputs": [
    {
     "name": "stdout",
     "output_type": "stream",
     "text": [
      "r = 151.0; s = 46.0\n",
      "151.0 == 46.0 is False\n",
      "151.0 != 46.0 is True\n"
     ]
    }
   ],
   "source": [
    "# Q.​ ​ Equality Operator\n",
    "# Take two different float values.\n",
    "# Store them in two different variables.\n",
    "# Equate them using equality operators (==, !=)\n",
    "# Observe the output(return type should be boolean)\n",
    "r = float(151); s = float(0b101110)\n",
    "print(f'r = {r}; s = {s}')\n",
    "print(f'{r} == {s} is {r==s}')\n",
    "print(f'{r} != {s} is {r!=s}')"
   ]
  },
  {
   "cell_type": "code",
   "execution_count": 17,
   "id": "0c2dcf68",
   "metadata": {},
   "outputs": [
    {
     "name": "stdout",
     "output_type": "stream",
     "text": [
      "\"and\" operator gives preference to False. It prints first value if first value is False otherwise print the second value\n",
      "20.3\n",
      "0.0\n",
      "0.0\n",
      "0.0\n",
      "\n",
      "\"or\" operator gives preference to True. It prints first value if first value is True otherwise print the second value\n",
      "10.2\n",
      "20.3\n",
      "20.3\n",
      "0.0\n",
      "False\n",
      "True\n"
     ]
    }
   ],
   "source": [
    "# Q.​ Logical operators\n",
    "# Observe the output of below code\n",
    "# Cross check the output manually\n",
    "# print​ ( ​ 10.20​ ​ and​ ​ 20.30​ )\n",
    "# >Output is 20.3 #both are true and second value taken\n",
    "# print​ ( ​ 0.0​ ​ and​ ​ 20.30​ ) #First is false so first value\n",
    "# taken->Output is 0.0print​ ( ​ 20.30​ ​ and​ ​ 0.0​ ) #Goes to till second and second value is\n",
    "# print​ ( ​ 0.0​ ​ and​ ​ 0.0​ ) #First is false so first value is\n",
    "# print​ ( ​ 10.20​ ​ or​ ​ 20.30​ )\n",
    "# taken>Output is 10.2 #First is True so first value is\n",
    "# print​ ( ​ 0.0​ ​ or​ ​ 20.30​ ) #Goes to till second and second is true\n",
    "# print​ ( ​ 20.30​ ​ or​ ​ 0.0​ )\n",
    "# taken->Output is 20.3 #First is True so first value is\n",
    "# print​ ( ​ 0.0​ ​ or​ ​ 0.0​ ) #Goes to till second and second is also\n",
    "# print​ ( ​ not​ ​ 10.20​ ) #-Not of true is false->Output is False\n",
    "# print​ ( ​ not​ ​ 0.0​ ) #Not of false is True>Output is True\n",
    "# false so second is taken>Output is 0.0\n",
    "# taken->Output is 0.0\n",
    "# second value is taken->Output is 20.3\n",
    "# false and second value is taken>Output is 0.0\n",
    "print(f'\"and\" operator gives preference to False. It prints first value if first value is False otherwise print the second value')\n",
    "print(10.20 and 20.30)\n",
    "print(0.0 and 20.30)\n",
    "print(20.30 and 0.0)\n",
    "print(0.0 and 0.0)\n",
    "print()\n",
    "print(f'\"or\" operator gives preference to True. It prints first value if first value is True otherwise print the second value')\n",
    "print(10.20 or 20.30)\n",
    "print(0.0 or 20.30)\n",
    "print(20.30 or 0.0)\n",
    "print(0.0 or 0.0)\n",
    "print(not 10.20)\n",
    "print(not 0.0)"
   ]
  },
  {
   "cell_type": "code",
   "execution_count": 24,
   "id": "8de1c53c",
   "metadata": {},
   "outputs": [
    {
     "name": "stdout",
     "output_type": "stream",
     "text": [
      "10.2 is 10.2 -> False. Float values are not interned/cached.\n",
      "10.2 is not 10.2 -> True. Float values are not interned/cached.\n",
      "id of a is 140202701715856\n",
      "id of b is 140202700984496\n",
      "id of c is 140202701715856. Variables are cross-assigned so pointing to the same object.\n",
      "id of x is 140202701716368\n",
      "id of y is 140202701716208\n",
      "id of z is 140202701716368\n"
     ]
    }
   ],
   "source": [
    "# Q.​ What is the output of expression inside print statement. Cross check\n",
    "# before running the program.\n",
    "# a = ​ 10.20\n",
    "# b - 1\n",
    "# 0.20\n",
    "# print​ (a ​ is​ b)\n",
    "# print​ (a ​ is​ ​ not​ b)\n",
    "# #True or False? True 10.20<256\n",
    "# #True or False? False\n",
    "# Why the Id of float values are different when the same value is\n",
    "# assigned to two different variables\n",
    "# ex: a = 10.5 b=10.5. but id will be same if I assign the variable\n",
    "# having float i.e. a=c then both a and c's Id are same\n",
    "a = 10.20\n",
    "b = 10.20\n",
    "print(f'{a} is {b} -> {a is b}. Float values are not interned/cached.')\n",
    "print(f'{a} is not {b} -> {a is not b}. Float values are not interned/cached.')\n",
    "print(f'id of a is {id(a)}')\n",
    "print(f'id of b is {id(b)}')\n",
    "c=a\n",
    "print(f'id of c is {id(c)}. a and c are pointing to the same object.')\n",
    "x = float(300)\n",
    "y = float(300)\n",
    "z=x\n",
    "print(f'id of x is {id(x)}')\n",
    "print(f'id of y is {id(y)}')\n",
    "print(f'id of z is {id(z)}')\n",
    "print(f'Note that, x and z are pointing to the same object.')"
   ]
  },
  {
   "cell_type": "code",
   "execution_count": 26,
   "id": "0bdd7566",
   "metadata": {},
   "outputs": [
    {
     "name": "stdout",
     "output_type": "stream",
     "text": [
      "floats are not cached/interned in python, only small integers in the range [-5,255] are.\n",
      "\"a=c\" amounts to copying the object reference to a that is why id of a and c are same\n"
     ]
    }
   ],
   "source": [
    "# Q.​ Bitwise operation is not applicable between instances of float.\n",
    "# Why the Id of float values are different when the same value is\n",
    "# assigned to two different variables\n",
    "# ex: a = 10.5 b=10.5. but id will be same if I assign the variable\n",
    "# having float i.e. a=c then both a and c's Id are same\n",
    "# Object reusability concept is not applicable on float values.\n",
    "print(f'floats are not cached/interned in python, only small integers in the range [-5,255] are.')\n",
    "print(f'\"a=c\" amounts to copying the object reference to a that is why id of a and c are same')"
   ]
  },
  {
   "cell_type": "code",
   "execution_count": 37,
   "id": "50e784e9",
   "metadata": {},
   "outputs": [
    {
     "name": "stdout",
     "output_type": "stream",
     "text": [
      "True\n",
      "True\n",
      "True\n",
      "True\n",
      "True\n"
     ]
    }
   ],
   "source": [
    "# Q.​ Membership operation\n",
    "# in, not in are two membership operators and it returns boolean value\n",
    "# print​ ( ​ '2.7'​ i\n",
    "# n​ '\n",
    "# Python2.7.8'​ )\n",
    "# #True\n",
    "# print​ ( ​ 10.20​ i\n",
    "# n​ [​ 10​ , ​ 10.20​ , ​ 10​ + ​ 20j​ , ​ 'Python'​ ]) #True\n",
    "# print​ ( ​ 10.20​ ​ in​ (​ 10​ , ​ 10.20​ , ​ 10​ + ​ 20j​ , ​ 'Python'​ )) # True\n",
    "# print​ ( ​ 20.30​ ​ in​ {​ 1 ​ , ​ 20.30​ , ​ 30​ + ​ 40j​ }) # True\n",
    "# print​ ( ​ 10​ ​ in​ ​ range​ ( ​ 20​ )) # True\n",
    "# print​ ( ​ 2.3​ ​ in​ {​ 1 ​ : ​ 100​ , ​ 2.3​ : ​ 200​ , ​ 30​ + ​ 40j​ : ​ 300​ }) # True\n",
    "print('2.7' in 'Python2.7.8')\n",
    "print(10.20 in [10,10.20, 10+20j, 'Python'])\n",
    "print(20.30 in [1,20.30, 30+40j, 'Python'])\n",
    "print(2.3 in {1:100, 2.3:200, 30+40j:300})\n",
    "print(10.0 in range(20))"
   ]
  }
 ],
 "metadata": {
  "kernelspec": {
   "display_name": "Python 3",
   "language": "python",
   "name": "python3"
  },
  "language_info": {
   "codemirror_mode": {
    "name": "ipython",
    "version": 3
   },
   "file_extension": ".py",
   "mimetype": "text/x-python",
   "name": "python",
   "nbconvert_exporter": "python",
   "pygments_lexer": "ipython3",
   "version": "3.8.8"
  }
 },
 "nbformat": 4,
 "nbformat_minor": 5
}
