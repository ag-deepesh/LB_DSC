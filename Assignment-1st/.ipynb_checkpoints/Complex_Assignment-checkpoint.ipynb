{
 "cells": [
  {
   "cell_type": "code",
   "execution_count": 8,
   "id": "f8033186",
   "metadata": {},
   "outputs": [
    {
     "name": "stdout",
     "output_type": "stream",
     "text": [
      "value of a is (10.2+0j)\n",
      "type of a is <class 'complex'>\n",
      "id of a is 140085459303312\n"
     ]
    }
   ],
   "source": [
    "# Q. ​ Declare a complex number and store it in a variable.\n",
    "# Check the type and print the id of the same.\n",
    "a = complex('10.2')\n",
    "print(f'value of a is {a}')\n",
    "print(f'type of a is {type(a)}')\n",
    "print(f'id of a is {id(a)}')"
   ]
  },
  {
   "cell_type": "code",
   "execution_count": 14,
   "id": "e4f7328f",
   "metadata": {},
   "outputs": [
    {
     "name": "stdout",
     "output_type": "stream",
     "text": [
      "x -> (200+10j)\n",
      "y -> (10100+0j)\n",
      "sum of (200+10j) and (10100+0j) is (10300+10j)\n",
      "difference of (200+10j) and (10100+0j) is (-9900+10j)\n",
      "product of (200+10j) and (10100+0j) is (2020000+101000j)\n",
      "float division of (200+10j) with (10100+0j) is (0.019801980198019802+0.0009900990099009901j)\n",
      "(200+10j) raised to (10100+0j) gives OverflowError\n"
     ]
    }
   ],
   "source": [
    "# Q.​ ​ Arithmetic Operations on complex number\n",
    "# Take two different complex numbers.\n",
    "# Store them in two different variables.\n",
    "# Do below operations on them:-\n",
    "# Find sum of both numbers\n",
    "# Find difference between them\n",
    "# Find the product of both numbers.\n",
    "# Find value after dividing first num with second number\n",
    "# Find the result of the first num to the power of the second number.\n",
    "x = complex(200,10)\n",
    "y = complex(format(20,'08b'))\n",
    "print(f'x -> {x}')\n",
    "print(f'y -> {y}')\n",
    "print(f'sum of {x} and {y} is {x+y}')\n",
    "print(f'difference of {x} and {y} is {x-y}')\n",
    "print(f'product of {x} and {y} is {x*y}')\n",
    "print(f'float division of {x} with {y} is {x/y}')\n",
    "print(f'{x} raised to {y} gives OverflowError')"
   ]
  },
  {
   "cell_type": "code",
   "execution_count": 18,
   "id": "88bb888f",
   "metadata": {},
   "outputs": [
    {
     "name": "stdout",
     "output_type": "stream",
     "text": [
      "a > b gives TypeError as no comparison is supported for complex numbers.\n",
      "\n",
      "id of a is 140085223571504\n",
      "id of b is 140085223571568\n",
      "id of c is 140085223571504\n",
      "a == b -> True. a and b have same values but have different ids.\n"
     ]
    }
   ],
   "source": [
    "# Q.​ Comparison Operation not applicable between instance of complex\n",
    "# values.\n",
    "# Object reusability concept is not applicable on complex number\n",
    "a = complex(10,20)\n",
    "b = complex(10,20)\n",
    "c = a\n",
    "print(f'a > b gives TypeError as no comparison is supported for complex numbers.')\n",
    "print()\n",
    "print(f'id of a is {id(a)}')\n",
    "print(f'id of b is {id(b)}')\n",
    "print(f'id of c is {id(c)}')\n",
    "print(f'a == b -> {a==b}. a and b have same values but have different ids.')"
   ]
  },
  {
   "cell_type": "code",
   "execution_count": 23,
   "id": "80cf73dc",
   "metadata": {},
   "outputs": [
    {
     "name": "stdout",
     "output_type": "stream",
     "text": [
      "x -> (1+1j)\n",
      "y -> (20+10j)\n",
      "x == y -> False\n",
      "x != y -> True\n"
     ]
    }
   ],
   "source": [
    "# Q.​ ​ Equality Operator\n",
    "# Take two different complex numbers.\n",
    "# Store them in two different variables.\n",
    "# Equate them using equality operators (==, !=)\n",
    "# Observe the output(return type should be boolean)\n",
    "x = complex(True, True)\n",
    "y = complex(float(20), 10)\n",
    "print(f'x -> {x}\\ny -> {y}')\n",
    "print(f'x == y -> {x==y}')\n",
    "print(f'x != y -> {x!=y}')"
   ]
  },
  {
   "cell_type": "code",
   "execution_count": 38,
   "id": "6314cd90",
   "metadata": {},
   "outputs": [
    {
     "name": "stdout",
     "output_type": "stream",
     "text": [
      "\"and\" operator returns the first value if it is False else second value is returned\n",
      "10+20j and 20+30j -> (20+30j)\n",
      "0+0j and 20+30j -> 0j\n",
      "20+30j and 0+0j -> 0j\n",
      "0+0j and 0+0j -> 0j\n",
      "\n",
      "\"or\" operator returns the first value if it is True else second value is returned\n",
      "10+20j or 20+30j -> (10+20j)\n",
      "0+0j or 20+30j -> (20+30j)\n",
      "20+30j or 0+0j -> (20+30j)\n",
      "0+0j or 0+0j -> 0j\n",
      "\n",
      "not 10+20j -> False\n",
      "not 0+0j -> True\n"
     ]
    }
   ],
   "source": [
    "# Q.​ Logical operators\n",
    "# Observe the output of below code\n",
    "# Cross check the output manually\n",
    "# print​ ( ​ 10​ + ​ 20j​ ​ and​ ​ 20​ + ​ 30j​ )\n",
    "# #20+30j\n",
    "# #----------------------------------------->Output is 20+30j\n",
    "# print​ ( ​ 0 ​ + ​ 0j​ ​ and​ ​ 20​ + ​ 30j​ ) #0+0j\n",
    "# print​ ( ​ 20​ + ​ 30j​ ​ and​ ​ 0 ​ + ​ 0j​ ) #0+0j\n",
    "# #----------------------------------------->Output is 0j\n",
    "# #----------------------------------------->Output is 0j\n",
    "# print​ ( ​ 0 ​ + ​ 0j​ ​ and​ ​ 0 ​ + ​ 0j​ )\n",
    "# #0+0j\n",
    "# #----------------------------------------->Output is 0j\n",
    "# print​ ( ​ 10​ + ​ 20j​ ​ or​ ​ 20​ + ​ 30j​ )\n",
    "# #10+20j\n",
    "# #----------------------------------------->Output is 10+20jprint​ ( ​ 0 ​ + ​ 0j​ ​ or​ ​ 20​ + ​ 30j​ ) #20+30j\n",
    "# print​ ( ​ 20​ + ​ 30j​ ​ or​ ​ 0 ​ + ​ 0j​ ) #20+30j\n",
    "# #----------------------------------------->Output is 20+30j\n",
    "# #----------------------------------------->Output is 20+30j\n",
    "# print​ ( ​ 0 ​ + ​ 0j​ ​ or​ ​ 0 ​ + ​ 0j​ )\n",
    "# #0+0j\n",
    "# #----------------------------------------->Output is 0j\n",
    "# print​ ( ​ not​ ​ 10​ + ​ 20j​ )\n",
    "# #False\n",
    "# #----------------------------------------->Output is False\n",
    "# print​ ( ​ not​ ​ 0 ​ + ​ 0j​ )\n",
    "# #True\n",
    "# #----------------------------------------->Output is True\n",
    "print(f'\"and\" operator returns the first value if it is False else second value is returned')\n",
    "print(f'10+20j and 20+30j -> {10+20j and 20+30j}')\n",
    "print(f'0+0j and 20+30j -> {0+0j and 20+30j}')\n",
    "print(f'20+30j and 0+0j -> {20+30j and 0+0j}')\n",
    "print(f'0+0j and 0+0j -> {0+0j and 0+0j}')\n",
    "print()\n",
    "print(f'\"or\" operator returns the first value if it is True else second value is returned')\n",
    "print(f'10+20j or 20+30j -> {10+20j or 20+30j}')\n",
    "print(f'0+0j or 20+30j -> {0+0j or 20+30j}')\n",
    "print(f'20+30j or 0+0j -> {20+30j or 0+0j}')\n",
    "print(f'0+0j or 0+0j -> {0+0j or 0+0j}')\n",
    "print()\n",
    "print(f'not 10+20j -> {not 10+20j}')\n",
    "print(f'not 0+0j -> {not 0+0j}')"
   ]
  },
  {
   "cell_type": "code",
   "execution_count": 40,
   "id": "58e38dad",
   "metadata": {},
   "outputs": [
    {
     "name": "stdout",
     "output_type": "stream",
     "text": [
      "a is b -> False\n",
      "a is not b -> True\n",
      "id of a -> 140085223572848\n",
      "id of b -> 140085223573808\n",
      "a == b -> True\n",
      "complex objects despite having same values have different ids\n"
     ]
    }
   ],
   "source": [
    "# Q.​ What is the output of the expression inside the print statement.\n",
    "# Cross check before running the program.\n",
    "# a = ​ 10​ + ​ 20j\n",
    "# b = ​ 10​ + ​ 20j\n",
    "# print​ (a ​ is​ b)\n",
    "# print​ (a ​ is​ ​ not​ b)\n",
    "# #False\n",
    "# #True\n",
    "# #True or False?\n",
    "# #True or False?\n",
    "a = 10+20j\n",
    "b = 10+20j\n",
    "print(f'a is b -> {a is b}')\n",
    "print(f'a is not b -> {a is not b}')\n",
    "print(f'id of a -> {id(a)}')\n",
    "print(f'id of b -> {id(b)}')\n",
    "print(f'a == b -> {a==b}')\n",
    "print(f'complex objects despite having same values have different ids')"
   ]
  },
  {
   "cell_type": "code",
   "execution_count": 43,
   "id": "c17c2155",
   "metadata": {},
   "outputs": [
    {
     "name": "stdout",
     "output_type": "stream",
     "text": [
      "True\n",
      "True\n",
      "True\n",
      "True\n",
      "True\n"
     ]
    }
   ],
   "source": [
    "# Q.​ Membership operation\n",
    "# in, not in are two membership operators and it returns boolean value\n",
    "# print​ ( ​ '2.7'​ ​ in​ ​ 'Python2.7.8'​ )\n",
    "# print​ ( ​ 10​ + ​ 20j​ ​ in​ [​ 10​ , ​ 10.20​ , ​ 10​ + ​ 20j​ , ​ 'Python'​ ]) #True\n",
    "# #True\n",
    "# print​ ( ​ 30​ + ​ 40j​ ​ in​ {​ 1 ​ : ​ 100​ , ​ 2.3​ : ​ 200​ , ​ 30​ + ​ 40j​ : ​ 300​ })\n",
    "# print​ ( ​ 10​ ​ in​ ​ range​ ( ​ 20​ )) #True\n",
    "# #True\n",
    "# print​ ( ​ 10​ + ​ 20j​ i\n",
    "# n​ (​ 10​ , ​ 10.20​ , ​ 10​ + ​ 20j​ , ​ 'Python'​ ))\n",
    "# print​ ( ​ 30​ + ​ 40j​ i\n",
    "# n​ {​ 1 ​ , ​ 20.30​ , ​ 30​ + ​ 40j​ })\n",
    "# #True\n",
    "# #True\n",
    "print('2.7' in 'Python2.7.8')\n",
    "print(10+20j in [10, 10.20, 10+20j, 'Python'])\n",
    "print(30+40j in {1, 20.30, 30+40j})\n",
    "print(30+40j in {1:100, 2.3:200, 30+40j:300})\n",
    "print(10 in range(20))"
   ]
  }
 ],
 "metadata": {
  "kernelspec": {
   "display_name": "Python 3",
   "language": "python",
   "name": "python3"
  },
  "language_info": {
   "codemirror_mode": {
    "name": "ipython",
    "version": 3
   },
   "file_extension": ".py",
   "mimetype": "text/x-python",
   "name": "python",
   "nbconvert_exporter": "python",
   "pygments_lexer": "ipython3",
   "version": "3.8.8"
  }
 },
 "nbformat": 4,
 "nbformat_minor": 5
}
