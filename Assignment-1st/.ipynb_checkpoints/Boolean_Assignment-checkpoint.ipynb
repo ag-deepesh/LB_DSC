{
 "cells": [
  {
   "cell_type": "code",
   "execution_count": 1,
   "id": "357609ff",
   "metadata": {},
   "outputs": [
    {
     "name": "stdout",
     "output_type": "stream",
     "text": [
      "value of a is True\n",
      "type of a is <class 'bool'>\n",
      "id of a is 94713891628992\n"
     ]
    }
   ],
   "source": [
    "# Q. ​ Declare a boolean value and store it in a variable.\n",
    "# Check the type and print the id of the same.\n",
    "a = bool(20.0)\n",
    "print(f'value of a is {a}')\n",
    "print(f'type of a is {type(a)}')\n",
    "print(f'id of a is {id(a)}')"
   ]
  },
  {
   "cell_type": "code",
   "execution_count": 4,
   "id": "2abee554",
   "metadata": {},
   "outputs": [
    {
     "name": "stdout",
     "output_type": "stream",
     "text": [
      "id of x is 94713891628992\n",
      "id of y is 94713891628992\n"
     ]
    }
   ],
   "source": [
    "# Q.​ ​ Take one boolean value between 0 - 256.\n",
    "# Assign it to two different variables.\n",
    "# Check the id of both the variables. It should come the same. Check why?\n",
    "x = bool(111)\n",
    "y = bool(221)\n",
    "print(f'id of x is {id(x)}')\n",
    "print(f'id of y is {id(y)}')"
   ]
  },
  {
   "cell_type": "code",
   "execution_count": 9,
   "id": "0a817901",
   "metadata": {},
   "outputs": [
    {
     "name": "stdout",
     "output_type": "stream",
     "text": [
      "value of x is False\n",
      "value of y is True\n",
      "sum of False and True is 1\n",
      "difference of False and True is -1\n",
      "product of False and True is 0\n",
      "float division of False with True is 0.0\n",
      "float division of True with False gives ZeroDivisionError\n",
      "remainder after float division of False with True is 0\n",
      "remainder after float division of True with False gives ZeroDivisionError\n",
      "quotient after float division of False with True is 0\n",
      "quotient after float division of True with False gives ZeroDivisionError\n",
      "False raised to True is 0\n",
      "True raised to False is 1\n"
     ]
    }
   ],
   "source": [
    "# Q.​ Arithmetic Operations on boolean data\n",
    "# Take two different boolean values.\n",
    "# Store them in two different variables.\n",
    "# Do below operations on them:-\n",
    "# Find sum of both values\n",
    "# Find difference between them\n",
    "# Find the product of both.\n",
    "# Find value after dividing first value with second value\n",
    "# Find the remainder after dividing first value with second value\n",
    "# Find the quotient after dividing first value with second value\n",
    "# Find the result of first value to the power of second value.\n",
    "x = bool([])\n",
    "y = bool([None])\n",
    "print(f'value of x is {x}')\n",
    "print(f'value of y is {y}')\n",
    "print(f'sum of {x} and {y} is {x+y}')\n",
    "print(f'difference of {x} and {y} is {x-y}')\n",
    "print(f'product of {x} and {y} is {x*y}')\n",
    "print(f'float division of {x} with {y} is {x/y}')\n",
    "print(f'float division of {y} with {x} gives ZeroDivisionError')\n",
    "\n",
    "print(f'remainder after float division of {x} with {y} is {x%y}')\n",
    "print(f'remainder after float division of {y} with {x} gives ZeroDivisionError')\n",
    "\n",
    "print(f'quotient after float division of {x} with {y} is {x//y}')\n",
    "print(f'quotient after float division of {y} with {x} gives ZeroDivisionError')\n",
    "\n",
    "print(f'{x} raised to {y} is {x**y}')\n",
    "print(f'{y} raised to {x} is {y**x}')"
   ]
  },
  {
   "cell_type": "code",
   "execution_count": 11,
   "id": "65aa407b",
   "metadata": {},
   "outputs": [
    {
     "name": "stdout",
     "output_type": "stream",
     "text": [
      "value of p is False\n",
      "value of q is True\n",
      "False < True -> True\n",
      "False > True -> False\n",
      "False <= True -> True\n",
      "False >= True -> False\n"
     ]
    }
   ],
   "source": [
    "# Q. Comparison Operators on boolean values\n",
    "# Take two different boolean values.\n",
    "# Store them in two different variables.\n",
    "# Do below operations on them:-\n",
    "# Compare these two values with below operator:-\n",
    "# Greater than, '>'\n",
    "# less than, '<'\n",
    "# Greater than or equal to, '>='\n",
    "# Less than or equal to, '<='\n",
    "# Observe their output(return type should be boolean)\n",
    "p = bool('')\n",
    "q = bool(0.0+2j)\n",
    "print(f'value of p is {p}')\n",
    "print(f'value of q is {q}')\n",
    "print(f'{p} < {q} -> {p<q}')\n",
    "print(f'{p} > {q} -> {p>q}')\n",
    "print(f'{p} <= {q} -> {p<=q}')\n",
    "print(f'{p} >= {q} -> {p>=q}')"
   ]
  },
  {
   "cell_type": "code",
   "execution_count": 12,
   "id": "fcdb91d4",
   "metadata": {},
   "outputs": [
    {
     "name": "stdout",
     "output_type": "stream",
     "text": [
      "value of p is False\n",
      "value of q is True\n",
      "False == True -> False\n",
      "False != True -> True\n"
     ]
    }
   ],
   "source": [
    "# Q.​ Equality Operator\n",
    "# Take two different boolean values.\n",
    "# Store them in two different variables.\n",
    "# Equate them using equality operators (==, !=)\n",
    "# Observe the output(return type should be boolean)\n",
    "p = bool('')\n",
    "q = bool(0.0+2j)\n",
    "print(f'value of p is {p}')\n",
    "print(f'value of q is {q}')\n",
    "print(f'{p} == {q} -> {p==q}')\n",
    "print(f'{p} != {q} -> {p!=q}')"
   ]
  },
  {
   "cell_type": "code",
   "execution_count": 13,
   "id": "d83e7c10",
   "metadata": {},
   "outputs": [
    {
     "name": "stdout",
     "output_type": "stream",
     "text": [
      "\"and\" operator gives preference to False. If first value is False then it prints the first value else second value is printed.\n",
      "True\n",
      "False\n",
      "False\n",
      "\n",
      "\"or\" operator gives preference to True. If first value is True then it prints the first value else second value is printed.\n",
      "True\n",
      "True\n",
      "False\n",
      "\n",
      "False\n",
      "True\n"
     ]
    }
   ],
   "source": [
    "# Q.​ Logical operators\n",
    "# Observe the output of below code\n",
    "# Cross check the output manually\n",
    "# print​ ( ​ True​ ​ and​ ​ True​ )\n",
    "# #----------------------------------------->Output is Trueprint​ ( ​ False​ ​ and​ ​ True​ )\n",
    "# #----------------------------------------->Output is False\n",
    "# print​ ( ​ True​ ​ and​ ​ False​ )\n",
    "# #----------------------------------------->Output is False\n",
    "# print​ ( ​ False​ ​ and​ ​ False​ )\n",
    "# #----------------------------------------->Output is False\n",
    "# print​ ( ​ True​ ​ or​ ​ True​ )\n",
    "# #----------------------------------------->Output is True\n",
    "# print​ ( ​ False​ ​ or​ ​ True​ )\n",
    "# #----------------------------------------->Output is True\n",
    "# print​ ( ​ True​ ​ or​ ​ False​ )\n",
    "# #----------------------------------------->Output is True\n",
    "# print​ ( ​ False​ ​ or​ ​ False​ )\n",
    "# #----------------------------------------->Output is False\n",
    "# print​ ( ​ not​ ​ True​ )\n",
    "# #----------------------------------------->Output is False\n",
    "# print​ ( ​ not​ ​ False​ )\n",
    "# #----------------------------------------->Output is True\n",
    "print(f'\"and\" operator gives preference to False. If first value is False then it prints the first value else second value is printed.')\n",
    "print(True and True)\n",
    "print(True and False)\n",
    "print(False and False)\n",
    "print()\n",
    "print(f'\"or\" operator gives preference to True. If first value is True then it prints the first value else second value is printed.')\n",
    "print(True or True)\n",
    "print(True or False)\n",
    "print(False or False)\n",
    "print()\n",
    "print(not True)\n",
    "print(not False)"
   ]
  },
  {
   "cell_type": "code",
   "execution_count": 21,
   "id": "1baec607",
   "metadata": {},
   "outputs": [
    {
     "name": "stdout",
     "output_type": "stream",
     "text": [
      "True\n",
      "True\n",
      "True\n",
      "-2\n",
      "4\n",
      "0\n"
     ]
    }
   ],
   "source": [
    "# Q.​ Bitwise Operators\n",
    "# Do below operations on the values provided below:-\n",
    "# Bitwise and(&) --------------> True, True -------> Output is True\n",
    "# Bitwise or(|)\n",
    "# Bitwise(^) -------> Output is True\n",
    "# -------> Output is True\n",
    "# --------------> True, False\n",
    "# --------------> True, False\n",
    "# Bitwise negation(~) ---------> True\n",
    "# Bitwise left shift ---------> True,2\n",
    "# -------> Output is -2\n",
    "# -------> Output is 4\n",
    "# Bitwise right shift ---------> True,2\n",
    "# Cross check the output manually\n",
    "# -------> Output is 0\n",
    "print(True & True)\n",
    "print(True | False)\n",
    "print(True ^ False)\n",
    "print(~True)\n",
    "print(True << 2)\n",
    "print(True >> 2)"
   ]
  },
  {
   "cell_type": "code",
   "execution_count": 23,
   "id": "a06643e4",
   "metadata": {},
   "outputs": [
    {
     "name": "stdout",
     "output_type": "stream",
     "text": [
      "a is b -> True\n",
      "a is not b -> False\n",
      "id of a is 94713891628992 and id of b is 94713891628992, Both variables are pointing to the same objects.\n",
      "\n",
      "a is b -> True\n",
      "a is not b -> False\n",
      "id of a is 94713891628960 and id of b is 94713891628960, Both variables are pointing to the same objects.\n",
      "\n"
     ]
    }
   ],
   "source": [
    "# Q.​ What is the output of expression inside the print statement. Cross\n",
    "# check before running the program.\n",
    "# a = ​ True\n",
    "# b = ​ True\n",
    "# print​ (a ​ is​ b)\n",
    "# #True or False?\n",
    "# #print​ (a ​ is​ ​ not​ b)\n",
    "# a = ​ False\n",
    "# b = F\n",
    "# alse\n",
    "# print​ (a ​ is​ b)\n",
    "# print​ (a ​ is​ ​ not​ b)\n",
    "# #True or False?\n",
    "# #True or False?\n",
    "# #True or False?\n",
    "a = True\n",
    "b = True\n",
    "print(f'a is b -> {a is b}')\n",
    "print(f'a is not b -> {a is not b}')\n",
    "print(f'id of a is {id(a)} and id of b is {id(b)}, Both variables are pointing to the same objects.')\n",
    "print()\n",
    "\n",
    "a = False\n",
    "b = False\n",
    "print(f'a is b -> {a is b}')\n",
    "print(f'a is not b -> {a is not b}')\n",
    "print(f'id of a is {id(a)} and id of b is {id(b)}, Both variables are pointing to the same objects.')\n",
    "print()"
   ]
  },
  {
   "cell_type": "code",
   "execution_count": 24,
   "id": "99ec6938",
   "metadata": {},
   "outputs": [
    {
     "name": "stdout",
     "output_type": "stream",
     "text": [
      "True\n",
      "True\n",
      "True\n",
      "True\n",
      "True\n"
     ]
    }
   ],
   "source": [
    "# Q.​ Membership operation\n",
    "# in, not in are two membership operators and it returns boolean value\n",
    "# print​ ( ​ True​ ​ in​ [​ 10​ , ​ 10.20​ , ​ 10​ + ​ 20j​ , ​ 'Python'​ , ​ True​ ])\n",
    "# print​ ( ​ False​ ​ in​ (​ 10​ , ​ 10.20​ , ​ 10​ + ​ 20j​ , ​ 'Python'​ , ​ False​ ))\n",
    "# print​ ( ​ True​ i\n",
    "# n​ {​ 1 ​ , ​ 2 ​ , ​ 3 ​ , ​ True​ })\n",
    "# print​ ( ​ True​ i\n",
    "# n​ {​ True​ : ​ 100​ , ​ False​ : ​ 200​ , ​ True​ : ​ 300​ })\n",
    "# print​ ( ​ False​ ​ in​ {​ True​ : ​ 100​ , ​ False​ : ​ 200​ , ​ True​ : ​ 300​ })\n",
    "print(True in [10, 10.20, 10+20j, 'Python', True])\n",
    "print(False in [10, 10.20, 10+20j, 'Python', False])\n",
    "print(True in {1,2,3, True})\n",
    "print(True in {True:100, False:200, True:300})\n",
    "print(False in {True:100, False:200, True:300})"
   ]
  }
 ],
 "metadata": {
  "kernelspec": {
   "display_name": "Python 3",
   "language": "python",
   "name": "python3"
  },
  "language_info": {
   "codemirror_mode": {
    "name": "ipython",
    "version": 3
   },
   "file_extension": ".py",
   "mimetype": "text/x-python",
   "name": "python",
   "nbconvert_exporter": "python",
   "pygments_lexer": "ipython3",
   "version": "3.8.8"
  }
 },
 "nbformat": 4,
 "nbformat_minor": 5
}
