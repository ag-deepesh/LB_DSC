{
 "cells": [
  {
   "cell_type": "code",
   "execution_count": 11,
   "id": "2caeef1b",
   "metadata": {},
   "outputs": [],
   "source": [
    "import sys"
   ]
  },
  {
   "cell_type": "code",
   "execution_count": 6,
   "id": "d8290241",
   "metadata": {},
   "outputs": [
    {
     "name": "stdout",
     "output_type": "stream",
     "text": [
      "type of variable \"a\" is <class 'int'>\n",
      "memory address of variable \"a\" is 93928884969056\n"
     ]
    }
   ],
   "source": [
    "# Q. Declare an int value and store it in a variable.\n",
    "# Check the type and print the id of the same.\n",
    "a = 10\n",
    "print(f'type of variable \"a\" is {type(a)}')\n",
    "print(f'memory address of variable \"a\" is {id(a)}')"
   ]
  },
  {
   "cell_type": "code",
   "execution_count": 24,
   "id": "a627410d",
   "metadata": {},
   "outputs": [
    {
     "name": "stdout",
     "output_type": "stream",
     "text": [
      "id of x is 93928884969088\n",
      "id of y is 93928884969088\n",
      "The id of both variables are same as they both point to the same object 11 stored in the heap area\n",
      "Integers between -5 and 256 are cached, i.e. variables in the variable area point to the same object in the heap area.\n",
      "Note: \"x == y\" is True and \"x is y\" is also True for integers in the range [-5, 256]\n"
     ]
    }
   ],
   "source": [
    "# Q.Take one int value between 0 - 256.\n",
    "# Assign it to two different variables.\n",
    "# Check the id of both the variables. It should come the same. Check why?\n",
    "\n",
    "x = 11; y = 11\n",
    "print(f'id of x is {id(x)}')\n",
    "print(f'id of y is {id(y)}')\n",
    "print(f'The id of both variables are same as they both point to the same object {x} stored in the heap area')\n",
    "print(f'Integers between -5 and 256 are cached, i.e. variables in the variable area point to the same object in the heap area.')\n",
    "print(f'Note: \"x == y\" is {x==y} and \"x is y\" is also {x is y} for integers in the range [-5, 256]')"
   ]
  },
  {
   "cell_type": "code",
   "execution_count": 23,
   "id": "fab94971",
   "metadata": {},
   "outputs": [
    {
     "name": "stdout",
     "output_type": "stream",
     "text": [
      "id of xx is 140328997757424\n",
      "id of yy is 140328997757008\n",
      "The id of both variables are different, i.e. they point to different objects (different memory locations) in the heap area\n",
      "The integers that are less than -5 or greater than 256 are not interned/cached\n",
      "Note: \"xx == yy\" is True but \"xx is yy\" is False for integers NOT in the range [-5, 256]\n"
     ]
    }
   ],
   "source": [
    "# Q. Take one int value either less than -5 or greater than 256.\n",
    "# Assign it to two different variables.\n",
    "# Check the id of both the variables. It should come different.Check why?\n",
    "xx = -10; yy = -10\n",
    "print(f'id of xx is {id(xx)}')\n",
    "print(f'id of yy is {id(yy)}')\n",
    "print(f'The id of both variables are different, i.e. they point to different objects (different memory locations) in the heap area')\n",
    "print(f'The integers that are less than -5 or greater than 256 are not interned/cached')\n",
    "print(f'Note: \"xx == yy\" is {xx==yy} but \"xx is yy\" is {xx is yy} for integers NOT in the range [-5, 256]')"
   ]
  },
  {
   "cell_type": "code",
   "execution_count": 29,
   "id": "f7becb4a",
   "metadata": {},
   "outputs": [
    {
     "name": "stdout",
     "output_type": "stream",
     "text": [
      "sum of numbers is 23\n",
      "difference of numbers is 17\n",
      "product of numbers is 60\n",
      "float division of numbers is 6.667 upto 3 decimal places\n",
      "remainder of float division is 2\n",
      "quotient after float division is 6\n",
      "value when 20 is raised to 3 is 8000\n"
     ]
    }
   ],
   "source": [
    "# Q.Arithmetic Operations on integers\n",
    "# Take two different integer values.\n",
    "# Store them in two different variables.\n",
    "# Do below operations on them:-\n",
    "# Find sum of both numbers\n",
    "# Find difference between them\n",
    "# Find the product of both numbers.\n",
    "# Find value after dividing first num with second number\n",
    "# Find the remainder after dividing first number with second number\n",
    "# Find the quotient after dividing first number with second number\n",
    "# Find the result of the first num to the power of the second number.\n",
    "\n",
    "a = 20\n",
    "b = 3\n",
    "print(f'sum of numbers is {a+b}')\n",
    "print(f'difference of numbers is {a-b}')\n",
    "print(f'product of numbers is {a*b}')\n",
    "print(f'float division of numbers is {(a/b):.3f} upto 3 decimal places')\n",
    "print(f'remainder of float division is {a%b}')\n",
    "print(f'quotient after float division is {a//b}')\n",
    "print(f'value when {a} is raised to {3} is {a**b}')\n"
   ]
  },
  {
   "cell_type": "code",
   "execution_count": 31,
   "id": "bb7c3184",
   "metadata": {},
   "outputs": [
    {
     "name": "stdout",
     "output_type": "stream",
     "text": [
      "100 > 21 is True\n",
      "100 < 21 is False\n",
      "100 >= 21 is True\n",
      "100 <= 21 is False\n"
     ]
    }
   ],
   "source": [
    "# Q.​ Comparison Operators on integers\n",
    "# Take two different integer values.\n",
    "# Store them in two different variables.\n",
    "# Do below operations on them:-\n",
    "# Compare se two numbers with below operator:-\n",
    "# Greater than, '>'\n",
    "# Smaller than, '<'\n",
    "# Greater than or equal to, '>='\n",
    "# Less than or equal to, '<='\n",
    "# Observe their output(return type should be boolean)\n",
    "p = 100\n",
    "q = 21\n",
    "print(f'{p} > {q} is {p>q}')\n",
    "print(f'{p} < {q} is {p<q}')\n",
    "print(f'{p} >= {q} is {p>=q}')\n",
    "print(f'{p} <= {q} is {p<=q}')"
   ]
  },
  {
   "cell_type": "code",
   "execution_count": 32,
   "id": "a8d7bc6e",
   "metadata": {},
   "outputs": [
    {
     "name": "stdout",
     "output_type": "stream",
     "text": [
      "1000==10000 is False\n",
      "1000!=10000 is True\n"
     ]
    }
   ],
   "source": [
    "# Q.​ Equality Operator\n",
    "# Take two different integer values.\n",
    "# Store them in two different variables.\n",
    "# Equate them using equality operators (==, !=)\n",
    "# Observe the output(return type should be boolean)\n",
    "r=1000\n",
    "s = 10000\n",
    "print(f'{r}=={s} is {r==s}')\n",
    "print(f'{r}!={s} is {r!=s}')"
   ]
  },
  {
   "cell_type": "code",
   "execution_count": 35,
   "id": "4030fa2a",
   "metadata": {},
   "outputs": [
    {
     "name": "stdout",
     "output_type": "stream",
     "text": [
      "\"and\" operator gives preference to \"False\", first value is returned if first value is False else it returns second value\n",
      "\"or\" operator gives preference to \"True\"; first value is returned if first value is True else it returns second value\n",
      "output of expression 10 and 20 is 20\n",
      "output of expression 0 and 20 is 0\n",
      "output of expression 20 and 0 is 0\n",
      "output of expression 0 and 0 is 0\n",
      "output of expression 10 or 20 is 10\n",
      "output of expression 0 or 20 is 20\n",
      "output of expression 20 or 0 is 20\n",
      "output of expression 0 or 0 is 0\n",
      "output of expression not 10 is False\n",
      "output of expression not 0 is True\n"
     ]
    }
   ],
   "source": [
    "#Q.​ Logical operators\n",
    "# Observe the output of below codeCross check the output manually\n",
    "# print​ ( ​ 10​ ​ and​ ​ 20​ )\n",
    "# #----------------------------------------->Output is 20\n",
    "# print​ ( ​ 0 ​ ​ and​ ​ 20​ )\n",
    "# #----------------------------------------->Output is 0\n",
    "# print​ ( ​ 20​ ​ and​ ​ 0 ​ )\n",
    "# #----------------------------------------->Output is 0\n",
    "# print​ ( ​ 0 ​ ​ and​ ​ 0 ​ )\n",
    "# #----------------------------------------->Output is 0\n",
    "# print​ ( ​ 10​ ​ or​ ​ 20​ )\n",
    "# #----------------------------------------->Output is 10\n",
    "# print​ ( ​ 0 ​ ​ or​ ​ 20​ )\n",
    "# #----------------------------------------->Output is 20\n",
    "# print​ ( ​ 20​ ​ or​ ​ 0 ​ )\n",
    "# #----------------------------------------->Output is 20\n",
    "# print​ ( ​ 0 ​ ​ or​ ​ 0 ​ )\n",
    "# #----------------------------------------->Output is 0\n",
    "# print​ ( ​ not​ ​ 10​ )\n",
    "# #----------------------------------------->Output is False\n",
    "# print​ ( ​ not​ ​ 0 ​ )\n",
    "# #----------------------------------------->Output is True\n",
    "print(f'\"and\" operator gives preference to \"False\", first value is returned if first value is False else it returns second value')\n",
    "print(f'\"or\" operator gives preference to \"True\"; first value is returned if first value is True else it returns second value')\n",
    "print(f'output of expression 10 and 20 is {10 and 20}')\n",
    "print(f'output of expression 0 and 20 is {0 and 20}')\n",
    "print(f'output of expression 20 and 0 is {20 and 0}')\n",
    "print(f'output of expression 0 and 0 is {0 and 0}')\n",
    "print(f'output of expression 10 or 20 is {10 or 20}')\n",
    "print(f'output of expression 0 or 20 is {0 or 20}')\n",
    "print(f'output of expression 20 or 0 is {20 or 0}')\n",
    "print(f'output of expression 0 or 0 is {0 or 0}')\n",
    "print(f'output of expression not 10 is {not 10}')\n",
    "print(f'output of expression not 0 is {not 0}')"
   ]
  },
  {
   "cell_type": "code",
   "execution_count": 104,
   "id": "ea894880",
   "metadata": {},
   "outputs": [
    {
     "name": "stdout",
     "output_type": "stream",
     "text": [
      "bitwise operators operate on the bits (0,1) and on integers\n",
      "output of the expression 10 & 20 is 0\n",
      "===========stepwise verification==========\n",
      "bin(10) -> 0b1010; bin(20)-> 0b10100\n",
      "0b01010 & 0b10100 -> 0b0\n",
      "Decimal equivalent of 0b0 is 0\n",
      "\n",
      "output of the expression 10 | 20 is 30\n",
      "===========stepwise verification==========\n",
      "bin(10) -> 0b1010; bin(20)-> 0b10100\n",
      "0b01010 | 0b10100 -> 0b11110\n",
      "Decimal equivalent of 0b11110 is 30\n",
      "\n",
      "output of the expression 10 ^ 20 is 30\n",
      "===========stepwise verification==========\n",
      "bin(10) -> 0b1010; bin(20)-> 0b10100\n",
      "0b01010 ^ 0b10100 -> 0b11110\n",
      "Decimal equivalent of 0b11110 is 30\n",
      "\n",
      "output of the expression ~10  is -11\n",
      "===========stepwise verification==========\n",
      "bin(10) -> 0b1010\n",
      "~0b01010 -> -0b1011\n",
      "Decimal equivalent of -0b1011 is -11\n",
      "\n",
      "output of the expression 10 << 2 is 40\n",
      "===========stepwise verification==========\n",
      "bin(10) -> 0b1010\n",
      "0b01010 << 2 -> 0b101000\n",
      "Decimal equivalent of 0b101000 is 40\n",
      "\n",
      "output of the expression 10 >> 2 is 2\n",
      "===========stepwise verification==========\n",
      "bin(10) -> 0b1010\n",
      "0b01010 >> 2 -> 0b10\n",
      "Decimal equivalent of 0b10 is 2\n",
      "\n"
     ]
    }
   ],
   "source": [
    "# Q.​ Bitwise Operators\n",
    "# Do below operations on the values provided below:-\n",
    "# Bitwise and(&) -----------------------------------------> 10, 20\n",
    "# -------> Output is 0\n",
    "# Bitwise or(|)\n",
    "# -----------------------------------------> 10, 20\n",
    "# -------> Output is 30\n",
    "# Bitwise(^)\n",
    "# -----------------------------------------> 10, 20\n",
    "# -------> Output is 30\n",
    "# Bitwise negation(~) ------------------------------------> 10\n",
    "# -------> Output is -11\n",
    "# Bitwise left shift\n",
    "# -------> Output is 40\n",
    "# ------------------------------------> 10,2\n",
    "# Bitwise right shift ------------------------------------> 10,2\n",
    "# -------> Output is 2\n",
    "# Cross check the output manually\n",
    "print(f'bitwise operators operate on the bits (0,1) and on integers')\n",
    "print(f'output of the expression 10 & 20 is {10&20}')\n",
    "print(f'===========stepwise verification==========')\n",
    "print(f'bin(10) -> {bin(10)}; bin(20)-> {bin(20)}')\n",
    "print(f'0b01010 & 0b10100 -> {bin(0b01010 & 0b10100)}')\n",
    "print(f'Decimal equivalent of {bin(0b01010 & 0b10100)} is {0b01010 & 0b10100}')\n",
    "print()\n",
    "\n",
    "print(f'output of the expression 10 | 20 is {10|20}')\n",
    "print(f'===========stepwise verification==========')\n",
    "print(f'bin(10) -> {bin(10)}; bin(20)-> {bin(20)}')\n",
    "print(f'0b01010 | 0b10100 -> {bin(0b01010 | 0b10100)}')\n",
    "print(f'Decimal equivalent of {bin(0b01010 | 0b10100)} is {0b01010 | 0b10100}')\n",
    "print()\n",
    "\n",
    "print(f'output of the expression 10 ^ 20 is {10^20}')\n",
    "print(f'===========stepwise verification==========')\n",
    "print(f'bin(10) -> {bin(10)}; bin(20)-> {bin(20)}')\n",
    "print(f'0b01010 ^ 0b10100 -> {bin(0b01010 ^ 0b10100)}')\n",
    "print(f'Decimal equivalent of {bin(0b01010 ^ 0b10100)} is {0b01010 ^ 0b10100}')\n",
    "print()\n",
    "\n",
    "\n",
    "print(f'output of the expression ~10  is {~(10)}')\n",
    "print(f'===========stepwise verification==========')\n",
    "print(f'bin(10) -> {bin(10)}')\n",
    "print(f'~0b01010 -> {bin(~(0b01010))}')\n",
    "print(f'Decimal equivalent of {bin(~0b01010)} is {~0b01010}')\n",
    "print()\n",
    "\n",
    "print(f'output of the expression 10 << 2 is {10 << 2}')\n",
    "print(f'===========stepwise verification==========')\n",
    "print(f'bin(10) -> {bin(10)}')\n",
    "print(f'0b01010 << 2 -> {bin(0b01010 << 2)}')\n",
    "print(f'Decimal equivalent of {bin(0b01010 << 2)} is {0b01010 << 2}')\n",
    "print()\n",
    "\n",
    "print(f'output of the expression 10 >> 2 is {10 >> 2}')\n",
    "print(f'===========stepwise verification==========')\n",
    "print(f'bin(10) -> {bin(10)}')\n",
    "print(f'0b01010 >> 2 -> {bin(0b01010 >> 2)}')\n",
    "print(f'Decimal equivalent of {bin(0b01010 >> 2)} is {0b01010 >> 2}')\n",
    "print()"
   ]
  },
  {
   "cell_type": "code",
   "execution_count": 110,
   "id": "04e88d3a",
   "metadata": {},
   "outputs": [
    {
     "name": "stdout",
     "output_type": "stream",
     "text": [
      "output of the expression 10 is 10 is True. They are pointing to the same objects in the heap memory.\n",
      "output of the expression 10 is not 10 is False. They are not pointing to different objects in the heap memory.\n",
      "output of the expression 1000 is 1000 is False. They are not pointing to the same objects in the heap memory. Integer is not cached for integers > 255\n",
      "output of the expression 1000 is not 1000 is True. They are pointing to different objects in the heap memory. Integer is not cached for integers > 255\n"
     ]
    }
   ],
   "source": [
    "# Q.​ What is the output of expression inside print statement. Cross check\n",
    "# before running the program.a = 10\n",
    "# b = 10\n",
    "# print(a is b)\n",
    "# print(a is not b)\n",
    "# #True or False?\n",
    "# #True or False?\n",
    "# a = 1000\n",
    "# b = 1000\n",
    "# print(a is b) #True or False?\n",
    "# print(a is not b) #True or False?\n",
    "a=10\n",
    "b=10\n",
    "print(f'output of the expression {a} is {b} is {a is b}. They are pointing to the same objects in the heap memory.')\n",
    "print(f'output of the expression {a} is not {b} is {a is not b}. They are not pointing to different objects in the heap memory.')\n",
    "\n",
    "a=1000\n",
    "b=1000\n",
    "print(f'output of the expression {a} is {b} is {a is b}. They are not pointing to the same objects in the heap memory. Integer is not cached for integers > 255')\n",
    "print(f'output of the expression {a} is not {b} is {a is not b}. They are pointing to different objects in the heap memory. Integer is not cached for integers > 255')\n"
   ]
  },
  {
   "cell_type": "code",
   "execution_count": 111,
   "id": "6e3cc740",
   "metadata": {},
   "outputs": [
    {
     "name": "stdout",
     "output_type": "stream",
     "text": [
      "20\n"
     ]
    }
   ],
   "source": [
    "# Q. ​ What is the output of expression inside print statement. Cross check\n",
    "# before running the program.\n",
    "# print​ ( ​ 10​ +(​ 10​ * ​ 32​ )//​ 2 ​ **​ 5 ​ & ​ 20​ +(~(​ -10​ ))<<​ 2 ​ )\n",
    "print(10 +(10 * 32)//2 ** 5 & 20 +(~(-10))<< 2)"
   ]
  },
  {
   "cell_type": "code",
   "execution_count": 112,
   "id": "980568fd",
   "metadata": {},
   "outputs": [
    {
     "name": "stdout",
     "output_type": "stream",
     "text": [
      "True\n",
      "True\n",
      "True\n",
      "True\n",
      "True\n",
      "True\n"
     ]
    }
   ],
   "source": [
    "# Q. ​ Membership operation\n",
    "# in, not in are two membership operators and it returns boolean value\n",
    "# print​ ( ​ '2'​ ​ in​ ​ 'Python2.7.8'​ )\n",
    "# print​ ( ​ 10​ ​ in​ [​ 10​ , ​ 10.20​ , ​ 10​ + ​ 20j​ , ​ 'Python'​ ])\n",
    "# print​ ( ​ 10​ ​ in​ (​ 10​ , ​ 10.20​ , ​ 10​ + ​ 20j​ , ​ 'Python'​ ))\n",
    "# print​ ( ​ 2 ​ ​ in​ {​ 1 ​ , ​ 2 ​ , ​ 3 ​ })\n",
    "# print​ ( ​ 3 ​ ​ in​ {​ 1 ​ : ​ 100​ , ​ 2 ​ : ​ 200​ , ​ 3 ​ : ​ 300​ })\n",
    "# print​ ( ​ 10​ ​ in​ ​ range​ ( ​ 20​ ))\n",
    "print('2' in 'Python2.7.8')\n",
    "print(10 in [10, 10.20, 10 + 20j, 'Python'])\n",
    "print(10 in (10, 10.20, 10 + 20j, 'Python'))\n",
    "print(2  in {1, 2, 3 })\n",
    "print(3  in {1:100 , 2:200 ,  3:300 })\n",
    "print(10 in  range( 20 ))"
   ]
  },
  {
   "cell_type": "code",
   "execution_count": 115,
   "id": "9c0f5b74",
   "metadata": {},
   "outputs": [
    {
     "name": "stdout",
     "output_type": "stream",
     "text": [
      "binary, octal and hexadecimal equivalent of 51 are 0b110011, 0o63, 0x33, respectively.\n",
      "binary, octal and hexadecimal equivalent of 9876 are 0b10011010010100, 0o23224, 0x2694, respectively.\n"
     ]
    }
   ],
   "source": [
    "# Q. ​ An integer can be represented in binary, octal or hexadecimal form.\n",
    "# Declare one binary, one octal and one hexadecimal value and store them\n",
    "# in three different variables.\n",
    "# Convert 9876 to its binary, octal and hexadecimal equivalent and print\n",
    "# their corresponding value.\n",
    "t = 51\n",
    "n = bin(t); m = oct(t); p = hex(t)\n",
    "print(f'binary, octal and hexadecimal equivalent of {t} are {n}, {m}, {p}, respectively.')\n",
    "print(f'binary, octal and hexadecimal equivalent of {9876} are {bin(9876)}, {oct(9876)}, {hex(9876)}, respectively.')\n"
   ]
  },
  {
   "cell_type": "code",
   "execution_count": 117,
   "id": "91ff3c33",
   "metadata": {},
   "outputs": [
    {
     "name": "stdout",
     "output_type": "stream",
     "text": [
      "80\n",
      "3870\n",
      "64222\n",
      "0b1010000\n",
      "0o7436\n",
      "0xfade\n",
      "0b1010000\n",
      "0b1111101011011110\n",
      "0o175336\n",
      "0o7436\n",
      "0x50\n",
      "0xfade\n"
     ]
    }
   ],
   "source": [
    "# Q. ​ What will be the output of following:-\n",
    "# a = ​ 0 ​ b1010000\n",
    "# print​ (a)\n",
    "# b = ​ 0 ​ o7436\n",
    "# print​ (b)\n",
    "# c = ​ 0x​ fade\n",
    "# print​ (c)\n",
    "# print​ ( ​ bin​ ( ​ 80​ ))print​ ( ​ oct​ ( ​ 3870​ ))\n",
    "# print​ ( ​ hex​ ( ​ 64222​ ))\n",
    "# print​ ( ​ bin​ ( ​ 0 ​ b1010000))\n",
    "# print​ ( ​ bin​ ( ​ 0x​ fade​ ))\n",
    "# print​ ( ​ oct​ ( ​ 0x​ fade​ ))\n",
    "# print​ ( ​ oct​ ( ​ 0 ​ o7436))\n",
    "# print​ ( ​ hex​ ( ​ 0 ​ b1010000))\n",
    "# print​ ( ​ hex​ ( ​ 0x​ fade​ ))\n",
    "a = 0b1010000\n",
    "print(a)\n",
    "b = 0o7436\n",
    "print(b)\n",
    "c = 0xfade\n",
    "print(c)\n",
    "print(bin(80))\n",
    "print(oct(3870))\n",
    "print(hex(64222))\n",
    "print(bin(0b1010000))\n",
    "print(bin(0xfade))\n",
    "print(oct(0xfade))\n",
    "print(oct(0o7436))\n",
    "print(hex(0b1010000))\n",
    "print(hex(0xfade))"
   ]
  },
  {
   "cell_type": "code",
   "execution_count": null,
   "id": "8a56ac52",
   "metadata": {},
   "outputs": [],
   "source": []
  }
 ],
 "metadata": {
  "kernelspec": {
   "display_name": "Python 3",
   "language": "python",
   "name": "python3"
  },
  "language_info": {
   "codemirror_mode": {
    "name": "ipython",
    "version": 3
   },
   "file_extension": ".py",
   "mimetype": "text/x-python",
   "name": "python",
   "nbconvert_exporter": "python",
   "pygments_lexer": "ipython3",
   "version": "3.8.8"
  }
 },
 "nbformat": 4,
 "nbformat_minor": 5
}
